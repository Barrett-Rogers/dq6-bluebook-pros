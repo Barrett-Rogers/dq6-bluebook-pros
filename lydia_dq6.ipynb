{
 "cells": [
  {
   "cell_type": "code",
   "execution_count": 3,
   "metadata": {},
   "outputs": [],
   "source": [
    "#! pip install py2neo\n",
    "#!pip install neo4j\n",
    "from neo4j import GraphDatabase\n",
    "import pandas as pd\n",
    "from sodapy import Socrata\n",
    "from py2neo import Graph\n",
    "from neo4j import graph\n",
    "from py2neo import Relationship\n",
    "import os\n",
    "import importlib\n",
    "import dask.dataframe as dd\n",
    "from dask.distributed import Client"
   ]
  },
  {
   "cell_type": "code",
   "execution_count": 365,
   "metadata": {},
   "outputs": [],
   "source": [
    "client=Client()"
   ]
  },
  {
   "cell_type": "code",
   "execution_count": 366,
   "metadata": {},
   "outputs": [
    {
     "data": {
      "text/html": [
       "<table style=\"border: 2px solid white;\">\n",
       "<tr>\n",
       "<td style=\"vertical-align: top; border: 0px solid white\">\n",
       "<h3>Client</h3>\n",
       "<ul>\n",
       "  <li><b>Scheduler: </b>tcp://127.0.0.1:64356\n",
       "  <li><b>Dashboard: </b><a href='http://127.0.0.1:8787/status' target='_blank'>http://127.0.0.1:8787/status</a>\n",
       "</ul>\n",
       "</td>\n",
       "<td style=\"vertical-align: top; border: 0px solid white\">\n",
       "<h3>Cluster</h3>\n",
       "<ul>\n",
       "  <li><b>Workers: </b>12</li>\n",
       "  <li><b>Cores: </b>12</li>\n",
       "  <li><b>Memory: </b>51.34 GB</li>\n",
       "</ul>\n",
       "</td>\n",
       "</tr>\n",
       "</table>"
      ],
      "text/plain": [
       "<Client: scheduler='tcp://127.0.0.1:64356' processes=12 cores=12>"
      ]
     },
     "execution_count": 366,
     "metadata": {},
     "output_type": "execute_result"
    }
   ],
   "source": [
    "client"
   ]
  },
  {
   "cell_type": "code",
   "execution_count": null,
   "metadata": {},
   "outputs": [],
   "source": [
    "# client = Socrata(\"data.cms.gov\", None)\n",
    "#results = client.get(\"j75i-rw8y\", limit=2000)\n",
    "#tax_df = pd.DataFrame.from_records(results)\n",
    "#tax_df.to_pickle('taxonomy.pkl')"
   ]
  },
  {
   "cell_type": "code",
   "execution_count": 90,
   "metadata": {},
   "outputs": [],
   "source": [
    "#npi_df=pd.read_csv('npidata_pfile_20050523-20200209.csv', usecols = ['NPI', 'Entity Type Code','Provider Last Name (Legal Name)', 'Provider First Name','Provider Name Prefix Text','Provider Name Suffix Text','Provider Credential Text',\n",
    "                      #        'Provider Organization Name (Legal Business Name)','Provider Other Organization Name',\n",
    "                        #      'Provider First Line Business Practice Location Address', 'Provider Business Practice Location Address City Name', 'Provider Business Practice Location Address State Name','Healthcare Provider Taxonomy Code_1'])\n",
    "#npi_df.to_pickle('npi.pkl')"
   ]
  },
  {
   "cell_type": "code",
   "execution_count": 74,
   "metadata": {},
   "outputs": [],
   "source": [
    "#tax=pd.read_pickle('taxonomy.pkl')\n",
    "#hop = pd.read_pickle('hop.pkl')\n",
    "#npi = pd.read_pickle('npi.pkl')\n",
    "#npi_tax_merged=pd.read_pickle('npi_tax_merged.pkl')\n",
    "#clean_npi_tax=pd.read('clean_npi_tax.pkl')"
   ]
  },
  {
   "cell_type": "code",
   "execution_count": 419,
   "metadata": {},
   "outputs": [],
   "source": [
    "hop = pd.read_pickle('hop.pkl')\n",
    "hop_df=hop"
   ]
  },
  {
   "cell_type": "code",
   "execution_count": 400,
   "metadata": {},
   "outputs": [
    {
     "data": {
      "text/plain": [
       "(203330907, 6)"
      ]
     },
     "execution_count": 400,
     "metadata": {},
     "output_type": "execute_result"
    }
   ],
   "source": [
    "hop.shape"
   ]
  },
  {
   "cell_type": "code",
   "execution_count": 421,
   "metadata": {},
   "outputs": [
    {
     "data": {
      "text/plain": [
       "(203330907, 6)"
      ]
     },
     "execution_count": 421,
     "metadata": {},
     "output_type": "execute_result"
    }
   ],
   "source": [
    "hop.shape"
   ]
  },
  {
   "cell_type": "code",
   "execution_count": 422,
   "metadata": {},
   "outputs": [],
   "source": [
    "#Filter transaction_count > 50, average_day_wait < 50\n",
    "hop=hop[(hop['transaction_count'] > 50) & (hop['average_day_wait'] < 50)].reset_index(drop=True)"
   ]
  },
  {
   "cell_type": "code",
   "execution_count": 199,
   "metadata": {},
   "outputs": [],
   "source": [
    "clean_npi_tax=npi_tax_merged[['NPI', 'Entity Type Code', 'Provider Organization Name (Legal Business Name)', 'provider_taxonomy_desc']]"
   ]
  },
  {
   "cell_type": "code",
   "execution_count": null,
   "metadata": {},
   "outputs": [],
   "source": [
    "clean_npi_tax=clean_npi_tax[clean_npi_tax.provider_taxonomy_desc.str.contains('Pharmacy')==False]"
   ]
  },
  {
   "cell_type": "code",
   "execution_count": 303,
   "metadata": {},
   "outputs": [],
   "source": [
    "def internal_medcine_cleaner(raw):\n",
    "    speciality=[]\n",
    "    key='Internal Medicine'\n",
    "    coma=','\n",
    "    for i in raw.speciality.astype(str):\n",
    "        if key in i and coma in i :\n",
    "            speciality.append(i.split(',')[1])\n",
    "        elif coma in i:\n",
    "            speciality.append(i.split(',')[0])\n",
    "        else:\n",
    "            speciality.append(i)\n",
    "    return(speciality)       "
   ]
  },
  {
   "cell_type": "code",
   "execution_count": 452,
   "metadata": {},
   "outputs": [],
   "source": [
    "clean_npi_tax['speciality']=internal_medcine_cleaner(clean_npi_tax)"
   ]
  },
  {
   "cell_type": "code",
   "execution_count": 453,
   "metadata": {},
   "outputs": [
    {
     "name": "stderr",
     "output_type": "stream",
     "text": [
      "C:\\Users\\Lydia\\Anaconda3\\lib\\site-packages\\ipykernel_launcher.py:2: SettingWithCopyWarning: \n",
      "A value is trying to be set on a copy of a slice from a DataFrame.\n",
      "Try using .loc[row_indexer,col_indexer] = value instead\n",
      "\n",
      "See the caveats in the documentation: http://pandas.pydata.org/pandas-docs/stable/indexing.html#indexing-view-versus-copy\n",
      "  \n",
      "C:\\Users\\Lydia\\Anaconda3\\lib\\site-packages\\ipykernel_launcher.py:4: SettingWithCopyWarning: \n",
      "A value is trying to be set on a copy of a slice from a DataFrame.\n",
      "Try using .loc[row_indexer,col_indexer] = value instead\n",
      "\n",
      "See the caveats in the documentation: http://pandas.pydata.org/pandas-docs/stable/indexing.html#indexing-view-versus-copy\n",
      "  after removing the cwd from sys.path.\n"
     ]
    }
   ],
   "source": [
    "clean_npi_tax=npi_tax_merged[['NPI', 'Entity Type Code', 'Provider Organization Name (Legal Business Name)','provider_taxonomy_desc']]\n",
    "clean_npi_tax['speciality']=clean_npi_tax['provider_taxonomy_desc'].str.split('/').str[1]\n",
    "#clean_npi_tax['speciality']=clean_npi_tax['speciality'].str.split(',').str[0]\n",
    "clean_npi_tax['Facility']=clean_npi_tax['Provider Organization Name (Legal Business Name)']\n",
    "clean_npi_tax=clean_npi_tax[['NPI', 'Entity Type Code','speciality', 'Facility']]\n",
    "#clean_npi_tax.to_pickle('clean_npi_tax.pkl')"
   ]
  },
  {
   "cell_type": "code",
   "execution_count": 454,
   "metadata": {
    "scrolled": true
   },
   "outputs": [],
   "source": [
    "provider=clean_npi_tax[clean_npi_tax['Entity Type Code']==1].reset_index(drop=True)\n",
    "facility=clean_npi_tax[clean_npi_tax['Entity Type Code']==2].reset_index(drop=True)\n",
    "hospital=facility[facility.Facility.str.contains('HOSPITAL')==True].reset_index(drop=True)\n",
    "\n",
    "#Filter from_npi, Entity Type = 1 \n",
    "\n",
    "entity1filter=hop['from_npi'].isin(provider['NPI'])==False\n",
    "hop=hop.drop(hop[entity1filter].index)\n",
    "\n",
    "#Filter to_npi, Entity Type = 2 \n",
    "entity2filter=hop['to_npi'].isin(npi_entitycode2['NPI'])==False\n",
    "hop=hop.drop(hop[entity2filter].index)\n",
    "\n",
    "# filter to_npi, Hospital\n",
    "hospitalfilter=hop['to_npi'].isin(hospital['NPI'])==False\n",
    "hop=hop.drop(hop[hospitalfilter].index)\n",
    "hop=hop.reset_index(drop=True)"
   ]
  },
  {
   "cell_type": "code",
   "execution_count": 271,
   "metadata": {},
   "outputs": [],
   "source": [
    "# dont forget to export clean hop.pkl"
   ]
  },
  {
   "cell_type": "code",
   "execution_count": 404,
   "metadata": {},
   "outputs": [],
   "source": [
    "#hop.to_csv('filtered_hop.csv')"
   ]
  },
  {
   "cell_type": "code",
   "execution_count": 96,
   "metadata": {},
   "outputs": [],
   "source": [
    "# filter Specialist (from_npi)(Orthopedic Surgeon, Cardiology, etc) "
   ]
  },
  {
   "cell_type": "code",
   "execution_count": 274,
   "metadata": {},
   "outputs": [],
   "source": [
    "#export hopping dataframe after filtering \n",
    "#hop.to_csv('filtered_hop.csv')"
   ]
  },
  {
   "cell_type": "code",
   "execution_count": 57,
   "metadata": {},
   "outputs": [],
   "source": [
    "npi_taxcode=npi_df=pd.read_csv('npidata_pfile_20050523-20200209.csv', \n",
    "                   usecols = ['NPI', 'Entity Type Code','Healthcare Provider Taxonomy Code_1'])\n",
    "#npi_taxcode.to_pickle('npi_taxonomy.pkl')"
   ]
  },
  {
   "cell_type": "code",
   "execution_count": 61,
   "metadata": {},
   "outputs": [],
   "source": [
    "taxcode=npi_taxcode['Healthcare Provider Taxonomy Code_1'].tolist()\n",
    "taxcode=set(taxcode)\n",
    "#len(taxcode)"
   ]
  },
  {
   "cell_type": "code",
   "execution_count": 361,
   "metadata": {},
   "outputs": [],
   "source": [
    "#only save the tax codes that are found in the npi dataset\n",
    "#taxfilter=tax.provider_taxonomy_code.isin(npi_taxcode['Healthcare Provider Taxonomy Code_1'])==False\n",
    "#tax=tax.drop(tax[taxfilter].index)\n",
    "#tax=tax[['provider_taxonomy_code','provider_taxonomy_desc']]"
   ]
  },
  {
   "cell_type": "code",
   "execution_count": 85,
   "metadata": {},
   "outputs": [],
   "source": [
    "tax['Healthcare Provider Taxonomy Code_1']=tax['provider_taxonomy_code']"
   ]
  },
  {
   "cell_type": "code",
   "execution_count": 87,
   "metadata": {},
   "outputs": [],
   "source": [
    "tax=tax[['Healthcare Provider Taxonomy Code_1','provider_taxonomy_desc']]"
   ]
  },
  {
   "cell_type": "code",
   "execution_count": 91,
   "metadata": {},
   "outputs": [],
   "source": [
    "npi_tax_merged=pd.merge(npi_df,tax)"
   ]
  },
  {
   "cell_type": "code",
   "execution_count": 455,
   "metadata": {},
   "outputs": [],
   "source": [
    "from_npi_filter=clean_npi_tax['NPI'].isin(hop.from_npi)==False\n",
    "from_specialists_df=clean_npi_tax.drop(clean_npi_tax[from_npi_filter].index)\n",
    "from_specialists_df['from_npi']=from_specialists_df['NPI']\n",
    "from_specialists_df['from_speciality']=from_specialists_df['speciality']\n",
    "from_specialists_df=from_specialists_df[['from_npi', 'from_speciality']].reset_index(drop=True)"
   ]
  },
  {
   "cell_type": "code",
   "execution_count": 447,
   "metadata": {},
   "outputs": [],
   "source": [
    "to_npi_filter=clean_npi_tax['NPI'].isin(hop.to_npi)==False\n",
    "to_hospitals_df=clean_npi_tax.drop(clean_npi_tax[to_npi_filter].index)\n",
    "to_hospitals_df['to_npi']=to_hospitals_df['NPI']\n",
    "to_hospitals_df['to_Facility']=to_hospitals_df['Facility']\n",
    "to_hospitals_df=to_hospitals_df[['to_npi', 'to_Facility']].reset_index(drop=True)"
   ]
  },
  {
   "cell_type": "code",
   "execution_count": 461,
   "metadata": {},
   "outputs": [],
   "source": [
    "hop4neo=pd.merge(hop,from_specialists_df)\n",
    "hop4neo=pd.merge(hop4neo,to_hospitals_df)"
   ]
  },
  {
   "cell_type": "code",
   "execution_count": 463,
   "metadata": {},
   "outputs": [
    {
     "data": {
      "text/html": [
       "<div>\n",
       "<style scoped>\n",
       "    .dataframe tbody tr th:only-of-type {\n",
       "        vertical-align: middle;\n",
       "    }\n",
       "\n",
       "    .dataframe tbody tr th {\n",
       "        vertical-align: top;\n",
       "    }\n",
       "\n",
       "    .dataframe thead th {\n",
       "        text-align: right;\n",
       "    }\n",
       "</style>\n",
       "<table border=\"1\" class=\"dataframe\">\n",
       "  <thead>\n",
       "    <tr style=\"text-align: right;\">\n",
       "      <th></th>\n",
       "      <th>from_npi</th>\n",
       "      <th>to_npi</th>\n",
       "      <th>patient_count</th>\n",
       "      <th>transaction_count</th>\n",
       "      <th>average_day_wait</th>\n",
       "      <th>std_day_wait</th>\n",
       "      <th>from_speciality</th>\n",
       "      <th>to_Facility</th>\n",
       "    </tr>\n",
       "  </thead>\n",
       "  <tbody>\n",
       "    <tr>\n",
       "      <th>0</th>\n",
       "      <td>1013177500</td>\n",
       "      <td>1003014952</td>\n",
       "      <td>53</td>\n",
       "      <td>54</td>\n",
       "      <td>45.333</td>\n",
       "      <td>48.711</td>\n",
       "      <td>Emergency Medicine</td>\n",
       "      <td>SONORA COMMUNITY HOSPITAL</td>\n",
       "    </tr>\n",
       "    <tr>\n",
       "      <th>1</th>\n",
       "      <td>1043345366</td>\n",
       "      <td>1003014952</td>\n",
       "      <td>81</td>\n",
       "      <td>99</td>\n",
       "      <td>44.869</td>\n",
       "      <td>52.187</td>\n",
       "      <td>Ophthalmology</td>\n",
       "      <td>SONORA COMMUNITY HOSPITAL</td>\n",
       "    </tr>\n",
       "    <tr>\n",
       "      <th>2</th>\n",
       "      <td>1003245895</td>\n",
       "      <td>1003014952</td>\n",
       "      <td>23</td>\n",
       "      <td>217</td>\n",
       "      <td>0.000</td>\n",
       "      <td>0.000</td>\n",
       "      <td>Psychologist, Clinical</td>\n",
       "      <td>SONORA COMMUNITY HOSPITAL</td>\n",
       "    </tr>\n",
       "    <tr>\n",
       "      <th>3</th>\n",
       "      <td>1003245895</td>\n",
       "      <td>1003014952</td>\n",
       "      <td>23</td>\n",
       "      <td>217</td>\n",
       "      <td>0.000</td>\n",
       "      <td>0.000</td>\n",
       "      <td>Psychologist, Clinical</td>\n",
       "      <td>SONORA COMMUNITY HOSPITAL</td>\n",
       "    </tr>\n",
       "    <tr>\n",
       "      <th>4</th>\n",
       "      <td>1083014559</td>\n",
       "      <td>1003014952</td>\n",
       "      <td>52</td>\n",
       "      <td>54</td>\n",
       "      <td>38.556</td>\n",
       "      <td>52.071</td>\n",
       "      <td>Nurse Practitioner, Family</td>\n",
       "      <td>SONORA COMMUNITY HOSPITAL</td>\n",
       "    </tr>\n",
       "  </tbody>\n",
       "</table>\n",
       "</div>"
      ],
      "text/plain": [
       "     from_npi      to_npi  patient_count  transaction_count  average_day_wait  \\\n",
       "0  1013177500  1003014952             53                 54            45.333   \n",
       "1  1043345366  1003014952             81                 99            44.869   \n",
       "2  1003245895  1003014952             23                217             0.000   \n",
       "3  1003245895  1003014952             23                217             0.000   \n",
       "4  1083014559  1003014952             52                 54            38.556   \n",
       "\n",
       "   std_day_wait             from_speciality                to_Facility  \n",
       "0        48.711          Emergency Medicine  SONORA COMMUNITY HOSPITAL  \n",
       "1        52.187               Ophthalmology  SONORA COMMUNITY HOSPITAL  \n",
       "2         0.000      Psychologist, Clinical  SONORA COMMUNITY HOSPITAL  \n",
       "3         0.000      Psychologist, Clinical  SONORA COMMUNITY HOSPITAL  \n",
       "4        52.071  Nurse Practitioner, Family  SONORA COMMUNITY HOSPITAL  "
      ]
     },
     "execution_count": 463,
     "metadata": {},
     "output_type": "execute_result"
    }
   ],
   "source": [
    "#Within a local CBSA, show which hospitals specialists typically refer patients to\n",
    "hop4neo.head(1)"
   ]
  },
  {
   "cell_type": "code",
   "execution_count": 471,
   "metadata": {},
   "outputs": [],
   "source": [
    "hop_ready4neo=hop4neo[['from_speciality', 'to_Facility','patient_count', 'transaction_count','average_day_wait', 'std_day_wait']]"
   ]
  },
  {
   "cell_type": "code",
   "execution_count": 473,
   "metadata": {},
   "outputs": [],
   "source": [
    "hop_ready4neo.to_csv('hop_ready4neo.csv')"
   ]
  },
  {
   "cell_type": "code",
   "execution_count": 479,
   "metadata": {},
   "outputs": [],
   "source": [
    "small_hop_ready4neo=pd.read_csv('hop_ready4neo.csv', nrows=1000)"
   ]
  },
  {
   "cell_type": "code",
   "execution_count": 480,
   "metadata": {},
   "outputs": [],
   "source": [
    "small_hop_ready4neo.to_csv('small_hop_ready4neo.csv')"
   ]
  },
  {
   "cell_type": "code",
   "execution_count": 481,
   "metadata": {},
   "outputs": [
    {
     "data": {
      "text/html": [
       "<div>\n",
       "<style scoped>\n",
       "    .dataframe tbody tr th:only-of-type {\n",
       "        vertical-align: middle;\n",
       "    }\n",
       "\n",
       "    .dataframe tbody tr th {\n",
       "        vertical-align: top;\n",
       "    }\n",
       "\n",
       "    .dataframe thead th {\n",
       "        text-align: right;\n",
       "    }\n",
       "</style>\n",
       "<table border=\"1\" class=\"dataframe\">\n",
       "  <thead>\n",
       "    <tr style=\"text-align: right;\">\n",
       "      <th></th>\n",
       "      <th>from_speciality</th>\n",
       "      <th>to_Facility</th>\n",
       "      <th>patient_count</th>\n",
       "      <th>transaction_count</th>\n",
       "      <th>average_day_wait</th>\n",
       "      <th>std_day_wait</th>\n",
       "    </tr>\n",
       "  </thead>\n",
       "  <tbody>\n",
       "    <tr>\n",
       "      <th>0</th>\n",
       "      <td>Emergency Medicine</td>\n",
       "      <td>SONORA COMMUNITY HOSPITAL</td>\n",
       "      <td>53</td>\n",
       "      <td>54</td>\n",
       "      <td>45.333</td>\n",
       "      <td>48.711</td>\n",
       "    </tr>\n",
       "    <tr>\n",
       "      <th>1</th>\n",
       "      <td>Ophthalmology</td>\n",
       "      <td>SONORA COMMUNITY HOSPITAL</td>\n",
       "      <td>81</td>\n",
       "      <td>99</td>\n",
       "      <td>44.869</td>\n",
       "      <td>52.187</td>\n",
       "    </tr>\n",
       "    <tr>\n",
       "      <th>2</th>\n",
       "      <td>Psychologist, Clinical</td>\n",
       "      <td>SONORA COMMUNITY HOSPITAL</td>\n",
       "      <td>23</td>\n",
       "      <td>217</td>\n",
       "      <td>0.000</td>\n",
       "      <td>0.000</td>\n",
       "    </tr>\n",
       "    <tr>\n",
       "      <th>3</th>\n",
       "      <td>Psychologist, Clinical</td>\n",
       "      <td>SONORA COMMUNITY HOSPITAL</td>\n",
       "      <td>23</td>\n",
       "      <td>217</td>\n",
       "      <td>0.000</td>\n",
       "      <td>0.000</td>\n",
       "    </tr>\n",
       "    <tr>\n",
       "      <th>4</th>\n",
       "      <td>Nurse Practitioner, Family</td>\n",
       "      <td>SONORA COMMUNITY HOSPITAL</td>\n",
       "      <td>52</td>\n",
       "      <td>54</td>\n",
       "      <td>38.556</td>\n",
       "      <td>52.071</td>\n",
       "    </tr>\n",
       "  </tbody>\n",
       "</table>\n",
       "</div>"
      ],
      "text/plain": [
       "              from_speciality                to_Facility  patient_count  \\\n",
       "0          Emergency Medicine  SONORA COMMUNITY HOSPITAL             53   \n",
       "1               Ophthalmology  SONORA COMMUNITY HOSPITAL             81   \n",
       "2      Psychologist, Clinical  SONORA COMMUNITY HOSPITAL             23   \n",
       "3      Psychologist, Clinical  SONORA COMMUNITY HOSPITAL             23   \n",
       "4  Nurse Practitioner, Family  SONORA COMMUNITY HOSPITAL             52   \n",
       "\n",
       "   transaction_count  average_day_wait  std_day_wait  \n",
       "0                 54            45.333        48.711  \n",
       "1                 99            44.869        52.187  \n",
       "2                217             0.000         0.000  \n",
       "3                217             0.000         0.000  \n",
       "4                 54            38.556        52.071  "
      ]
     },
     "execution_count": 481,
     "metadata": {},
     "output_type": "execute_result"
    }
   ],
   "source": [
    "hop_ready4neo.head()"
   ]
  },
  {
   "cell_type": "code",
   "execution_count": null,
   "metadata": {},
   "outputs": [],
   "source": []
  },
  {
   "cell_type": "code",
   "execution_count": null,
   "metadata": {},
   "outputs": [],
   "source": []
  },
  {
   "cell_type": "code",
   "execution_count": null,
   "metadata": {},
   "outputs": [],
   "source": []
  },
  {
   "cell_type": "code",
   "execution_count": 98,
   "metadata": {},
   "outputs": [],
   "source": [
    "nodes = pd.DataFrame(nodedata)\n",
    "edges = pd.DataFrame(edgedata)\n",
    "nodePath = 'nodes.csv'\n",
    "edgePath = 'edges.csv'"
   ]
  },
  {
   "cell_type": "code",
   "execution_count": null,
   "metadata": {},
   "outputs": [],
   "source": [
    "serverURL = 'localhost:7474'\n",
    "dbURL = 'http://localhost:7687/db/data'\n",
    "account = \"neo4j\"\n",
    "password = \"****\""
   ]
  },
  {
   "cell_type": "code",
   "execution_count": null,
   "metadata": {},
   "outputs": [],
   "source": [
    "nodes.to_csv(nodePath, index=False)\n",
    "edges.to_csv(edgePath, index=False)"
   ]
  },
  {
   "cell_type": "code",
   "execution_count": 18,
   "metadata": {},
   "outputs": [],
   "source": [
    "graph = Graph(dbURL)"
   ]
  },
  {
   "cell_type": "code",
   "execution_count": null,
   "metadata": {},
   "outputs": [],
   "source": [
    "def path2url(path):\n",
    "    return ('file:', u(path))\n"
   ]
  },
  {
   "cell_type": "code",
   "execution_count": null,
   "metadata": {},
   "outputs": [],
   "source": [
    "#cypher params\n",
    "nodename = \"Provider\"\n",
    "edgename = \"patient_count\"\n",
    "source_name = \"from_npi\"\n",
    "dest_name = \"to_npi\""
   ]
  },
  {
   "cell_type": "code",
   "execution_count": null,
   "metadata": {},
   "outputs": [],
   "source": [
    "graph.cypher.execute(\"LOAD CSV WITH HEADERS FROM '%s' AS csvLine \" % (path2url(nodePath)) +\n",
    "                     \" CREATE (p:\"+nodename+\" { id: toInt(csvLine.subid), name: csvLine.name, age: toInt(csvLine.age), \n",
    "                     fdg: toFloat(csvLine.fdg) })\")\n"
   ]
  },
  {
   "cell_type": "code",
   "execution_count": null,
   "metadata": {},
   "outputs": [],
   "source": [
    "#import edges\n",
    "tx = graph.cypher.begin()\n",
    "statement = \"USING PERIODIC COMMIT 500\" \\\n",
    "            + \" LOAD CSV WITH HEADERS FROM '\" + path2url(edgePath) + \"' AS csvLine\" \\\n",
    "            + \" MATCH (person:\"+source_name+\" { id: toInt(csvLine.source)}),(person1:\"+dest_name+\" { id: toInt(csvLine.dest)})\" \\\n",
    "            + \" CREATE (person)-[:\"+edgename+\" { rating: toInt(csvLine.rating), weight: toInt(csvLine.weight) }]->(person1)\"\n",
    "tx.append(statement)\n",
    "tx.commit()"
   ]
  },
  {
   "cell_type": "code",
   "execution_count": null,
   "metadata": {},
   "outputs": [],
   "source": [
    "\n",
    "#NODE BY NODE IMPORT\n",
    "for index, row in nodes.iterrows():\n",
    "    node = Node(nodename, id=int(row['subid']), age = row['age'], fdg = row['fdg'], name = row['name'])\n",
    "    graph.create(node)\n"
   ]
  },
  {
   "cell_type": "code",
   "execution_count": null,
   "metadata": {},
   "outputs": [],
   "source": [
    "for index, row in hop.iterrows():\n",
    "    source_node = graph.find_one(nodename, property_key='id', property_value=int(row['source']))\n",
    "    dest_node = graph.find_one(nodename, property_key='id', property_value = int(row['dest']))\n",
    "    relation = Relationship(source_node, edgename, dest_node, rating = int(row['rating']))\n",
    "    graph.create(relation)\n"
   ]
  },
  {
   "cell_type": "code",
   "execution_count": null,
   "metadata": {},
   "outputs": [],
   "source": []
  },
  {
   "cell_type": "code",
   "execution_count": null,
   "metadata": {},
   "outputs": [],
   "source": []
  },
  {
   "cell_type": "code",
   "execution_count": null,
   "metadata": {},
   "outputs": [],
   "source": []
  },
  {
   "cell_type": "code",
   "execution_count": null,
   "metadata": {},
   "outputs": [],
   "source": [
    "CODE BACKUP\n",
    "# Load CSV\n",
    "LOAD CSV WITH HEADERS FROM 'file:///small_hopping.csv' AS line\n",
    "CREATE (:Provider { npi: line.from_npi}) -[:Referred {patient_count: line.patient_count}]-> (:Provider {npi: line.to_npi})\n",
    "\n",
    "#LOAD WITH PROPER EDGES/NODES\n",
    "LOAD CSV WITH HEADERS FROM 'file:///small_hopping.csv' AS line\n",
    "MERGE (f:Provider { npi: line.from_npi} )\n",
    "MERGE (t:Provider { npi: line.to_npi} )\n",
    "MERGE (f)-[:Referred {patient_count: line.patient_count}]->(t)\n",
    "\n",
    "#Delete all nodes and edges\n",
    "MATCH (p:Provider) DETACH DELETE p\n",
    "\n",
    "\n"
   ]
  },
  {
   "cell_type": "code",
   "execution_count": null,
   "metadata": {},
   "outputs": [],
   "source": []
  },
  {
   "cell_type": "code",
   "execution_count": null,
   "metadata": {},
   "outputs": [],
   "source": [
    "LOAD CSV WITH HEADERS FROM 'file:///small_hop_ready4neo.csv' AS row \n",
    "MERGE (p1:Provider {npi:row.from_speciality}) \n",
    "MERGE (p2:Provider {npi:row.to_Facility}) \n",
    "MERGE (p1)-[:REFERRED_TO {patient_count:row.patient_count, transaction_count:row.transaction_count, \n",
    "average_day_wait:row.average_day_wait}]->(p2);\n",
    "MATCH (p1:Provider)-[c:REFERRED_TO]->(p2:Provider) return p1,c,p2"
   ]
  },
  {
   "cell_type": "code",
   "execution_count": null,
   "metadata": {},
   "outputs": [],
   "source": []
  },
  {
   "cell_type": "code",
   "execution_count": null,
   "metadata": {},
   "outputs": [],
   "source": []
  },
  {
   "cell_type": "code",
   "execution_count": null,
   "metadata": {},
   "outputs": [],
   "source": []
  }
 ],
 "metadata": {
  "kernelspec": {
   "display_name": "Python 3",
   "language": "python",
   "name": "python3"
  },
  "language_info": {
   "codemirror_mode": {
    "name": "ipython",
    "version": 3
   },
   "file_extension": ".py",
   "mimetype": "text/x-python",
   "name": "python",
   "nbconvert_exporter": "python",
   "pygments_lexer": "ipython3",
   "version": "3.7.1"
  }
 },
 "nbformat": 4,
 "nbformat_minor": 2
}
