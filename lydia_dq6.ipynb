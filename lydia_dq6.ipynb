{
 "cells": [
  {
   "cell_type": "code",
   "execution_count": 3,
   "metadata": {},
   "outputs": [],
   "source": [
    "#! pip install py2neo\n",
    "#!pip install neo4j\n",
    "from neo4j import GraphDatabase\n",
    "import pandas as pd\n",
    "from sodapy import Socrata\n",
    "from py2neo import Graph\n",
    "from neo4j import graph\n",
    "from py2neo import Relationship\n",
    "import os\n",
    "import importlib"
   ]
  },
  {
   "cell_type": "code",
   "execution_count": null,
   "metadata": {},
   "outputs": [],
   "source": [
    "# client = Socrata(\"data.cms.gov\", None)\n",
    "#results = client.get(\"j75i-rw8y\", limit=2000)\n",
    "#tax_df = pd.DataFrame.from_records(results)\n",
    "#tax_df.to_pickle('taxonomy.pkl')"
   ]
  },
  {
   "cell_type": "code",
   "execution_count": 90,
   "metadata": {},
   "outputs": [],
   "source": [
    "#npi_df=pd.read_csv('npidata_pfile_20050523-20200209.csv', \n",
    "                  # usecols = ['NPI', 'Entity Type Code',\n",
    "                   #           'Provider Last Name (Legal Name)', 'Provider First Name',\n",
    "                    #          'Provider Name Prefix Text','Provider Name Suffix Text',\n",
    "                     #         'Provider Credential Text',\n",
    "                      #        'Provider Organization Name (Legal Business Name)',\n",
    "                       #       'Provider Other Organization Name',\n",
    "                        #      'Provider First Line Business Practice Location Address',\n",
    "                         #     'Provider Business Practice Location Address City Name',\n",
    "                          #    'Provider Business Practice Location Address State Name',\n",
    "                           #   'Healthcare Provider Taxonomy Code_1'])\n",
    "#npi_df.to_pickle('npi.pkl')"
   ]
  },
  {
   "cell_type": "code",
   "execution_count": 74,
   "metadata": {},
   "outputs": [],
   "source": [
    "#tax=pd.read_pickle('taxonomy.pkl')\n",
    "#hop = pd.read_pickle('hop.pkl')\n",
    "#npi = pd.read_pickle('npi.pkl')\n",
    "#npi_tax_merged=pd.read_pickle('npi_tax_merged.pkl')\n",
    "#clean_npi_tax=pd.read('clean_npi_tax.pkl')"
   ]
  },
  {
   "cell_type": "code",
   "execution_count": 325,
   "metadata": {},
   "outputs": [
    {
     "data": {
      "text/plain": [
       "(203330907, 6)"
      ]
     },
     "execution_count": 325,
     "metadata": {},
     "output_type": "execute_result"
    }
   ],
   "source": [
    "hop.shape"
   ]
  },
  {
   "cell_type": "code",
   "execution_count": 326,
   "metadata": {},
   "outputs": [],
   "source": [
    "#Filter transaction_count > 50, average_day_wait < 50\n",
    "hop=hop[(hop['transaction_count'] > 50) & (hop['average_day_wait'] < 50)].reset_index(drop=True)"
   ]
  },
  {
   "cell_type": "code",
   "execution_count": 327,
   "metadata": {},
   "outputs": [
    {
     "data": {
      "text/plain": [
       "(31127390, 6)"
      ]
     },
     "execution_count": 327,
     "metadata": {},
     "output_type": "execute_result"
    }
   ],
   "source": [
    "hop.shape"
   ]
  },
  {
   "cell_type": "code",
   "execution_count": 199,
   "metadata": {},
   "outputs": [],
   "source": [
    "clean_npi_tax=npi_tax_merged[['NPI', 'Entity Type Code', 'Provider Organization Name (Legal Business Name)',\n",
    "                              'provider_taxonomy_desc']]"
   ]
  },
  {
   "cell_type": "code",
   "execution_count": 234,
   "metadata": {},
   "outputs": [],
   "source": [
    "clean_npi_tax=clean_npi_tax[clean_npi_tax.provider_taxonomy_desc.str.contains('Pharmacy')==False]\n",
    "clean_npi_tax=clean_npi_tax[clean_npi_tax.provider_taxonomy_desc.str.contains('Pharmacy')==False]"
   ]
  },
  {
   "cell_type": "code",
   "execution_count": null,
   "metadata": {},
   "outputs": [],
   "source": [
    "clean_npi_tax=clean_npi_tax[clean_npi_tax.provider_taxonomy_desc.str.contains('Pharmacy')==False]"
   ]
  },
  {
   "cell_type": "code",
   "execution_count": 288,
   "metadata": {},
   "outputs": [],
   "source": [
    "internalmed=clean_npi_tax[clean_npi_tax.speciality.str.contains('Internal Medicine')==True].reset_index(drop=True)"
   ]
  },
  {
   "cell_type": "code",
   "execution_count": 303,
   "metadata": {},
   "outputs": [],
   "source": [
    "def internal_medcine_cleaner(raw):\n",
    "    speciality=[]\n",
    "    key='Internal Medicine'\n",
    "    coma=','\n",
    "    for i in raw.speciality.astype(str):\n",
    "        if key in i and coma in i :\n",
    "            speciality.append(i.split(',')[1])\n",
    "        elif coma in i:\n",
    "            speciality.append(i.split(',')[0])\n",
    "        else:\n",
    "            speciality.append(i)\n",
    "    return(speciality)       "
   ]
  },
  {
   "cell_type": "code",
   "execution_count": 304,
   "metadata": {},
   "outputs": [],
   "source": [
    "clean_npi_tax['speciality']=internal_medcine_cleaner(clean_npi_tax)"
   ]
  },
  {
   "cell_type": "code",
   "execution_count": 238,
   "metadata": {},
   "outputs": [
    {
     "name": "stderr",
     "output_type": "stream",
     "text": [
      "C:\\Users\\Lydia\\Anaconda3\\lib\\site-packages\\ipykernel_launcher.py:2: SettingWithCopyWarning: \n",
      "A value is trying to be set on a copy of a slice from a DataFrame.\n",
      "Try using .loc[row_indexer,col_indexer] = value instead\n",
      "\n",
      "See the caveats in the documentation: http://pandas.pydata.org/pandas-docs/stable/indexing.html#indexing-view-versus-copy\n",
      "  \n",
      "C:\\Users\\Lydia\\Anaconda3\\lib\\site-packages\\ipykernel_launcher.py:4: SettingWithCopyWarning: \n",
      "A value is trying to be set on a copy of a slice from a DataFrame.\n",
      "Try using .loc[row_indexer,col_indexer] = value instead\n",
      "\n",
      "See the caveats in the documentation: http://pandas.pydata.org/pandas-docs/stable/indexing.html#indexing-view-versus-copy\n",
      "  after removing the cwd from sys.path.\n"
     ]
    }
   ],
   "source": [
    "clean_npi_tax=npi_tax_merged[['NPI', 'Entity Type Code', 'Provider Organization Name (Legal Business Name)','provider_taxonomy_desc']]\n",
    "clean_npi_tax['speciality']=clean_npi_tax['provider_taxonomy_desc'].str.split('/').str[1]\n",
    "#clean_npi_tax['speciality']=clean_npi_tax['speciality'].str.split(',').str[0]\n",
    "clean_npi_tax['Fascility']=clean_npi_tax['Provider Organization Name (Legal Business Name)']\n",
    "clean_npi_tax=clean_npi_tax[['NPI', 'Entity Type Code','speciality', 'Fascility']]\n",
    "#clean_npi_tax.to_pickle('clean_npi_tax.pkl')"
   ]
  },
  {
   "cell_type": "code",
   "execution_count": 328,
   "metadata": {
    "scrolled": true
   },
   "outputs": [],
   "source": [
    "provider=clean_npi_tax[clean_npi_tax['Entity Type Code']==1].reset_index(drop=True)\n",
    "fascility=clean_npi_tax[clean_npi_tax['Entity Type Code']==2].reset_index(drop=True)\n",
    "hospital=fascility[fascility.Fascility.str.contains('HOSPITAL')==True].reset_index(drop=True)\n",
    "#Filter from_npi, Entity Type = 1 \n",
    "entity1filter=hop['from_npi'].isin(provider['NPI'])==False\n",
    "hop=hop.drop(hop[entity1filter].index)\n",
    "#Filter to_npi, Entity Type = 2 \n",
    "entity2filter=hop['to_npi'].isin(npi_entitycode2['NPI'])==False\n",
    "hop=hop.drop(hop[entity2filter].index)\n",
    "# filter to_npi, Hospital\n",
    "hospitalfilter=hop['to_npi'].isin(hospital['NPI'])==False\n",
    "hop=hop.drop(hop[hospitalfilter].index)"
   ]
  },
  {
   "cell_type": "code",
   "execution_count": 329,
   "metadata": {},
   "outputs": [
    {
     "data": {
      "text/plain": [
       "(939381, 6)"
      ]
     },
     "execution_count": 329,
     "metadata": {},
     "output_type": "execute_result"
    }
   ],
   "source": [
    "hop.shape"
   ]
  },
  {
   "cell_type": "code",
   "execution_count": 271,
   "metadata": {},
   "outputs": [],
   "source": [
    "# dont forget to export clean hop.pkl"
   ]
  },
  {
   "cell_type": "code",
   "execution_count": 273,
   "metadata": {},
   "outputs": [],
   "source": [
    "#hop.to_csv('filtered_hop.csv')"
   ]
  },
  {
   "cell_type": "code",
   "execution_count": 96,
   "metadata": {},
   "outputs": [],
   "source": [
    "# filter Specialist (from_npi)(Orthopedic Surgeon, Cardiology, etc) "
   ]
  },
  {
   "cell_type": "code",
   "execution_count": 274,
   "metadata": {},
   "outputs": [],
   "source": [
    "#export hopping dataframe after filtering \n",
    "#hop.to_csv('filtered_hop.csv')"
   ]
  },
  {
   "cell_type": "code",
   "execution_count": 57,
   "metadata": {},
   "outputs": [],
   "source": [
    "npi_taxcode=npi_df=pd.read_csv('npidata_pfile_20050523-20200209.csv', \n",
    "                   usecols = ['NPI', 'Entity Type Code','Healthcare Provider Taxonomy Code_1'])\n",
    "#npi_taxcode.to_pickle('npi_taxonomy.pkl')"
   ]
  },
  {
   "cell_type": "code",
   "execution_count": 61,
   "metadata": {},
   "outputs": [],
   "source": [
    "taxcode=npi_taxcode['Healthcare Provider Taxonomy Code_1'].tolist()\n",
    "taxcode=set(taxcode)\n",
    "#len(taxcode)"
   ]
  },
  {
   "cell_type": "code",
   "execution_count": 76,
   "metadata": {},
   "outputs": [],
   "source": [
    "#only save the tax codes that are found in the npi dataset\n",
    "taxfilter=tax.provider_taxonomy_code.isin(npi_taxcode['Healthcare Provider Taxonomy Code_1'])==False\n",
    "tax=tax.drop(tax[taxfilter].index)\n",
    "tax=tax[['provider_taxonomy_code','provider_taxonomy_desc']]"
   ]
  },
  {
   "cell_type": "code",
   "execution_count": 85,
   "metadata": {},
   "outputs": [],
   "source": [
    "tax['Healthcare Provider Taxonomy Code_1']=tax['provider_taxonomy_code']"
   ]
  },
  {
   "cell_type": "code",
   "execution_count": 87,
   "metadata": {},
   "outputs": [],
   "source": [
    "tax=tax[['Healthcare Provider Taxonomy Code_1','provider_taxonomy_desc']]"
   ]
  },
  {
   "cell_type": "code",
   "execution_count": 91,
   "metadata": {},
   "outputs": [],
   "source": [
    "npi_tax_merged=pd.merge(npi_df,tax)"
   ]
  },
  {
   "cell_type": "code",
   "execution_count": null,
   "metadata": {},
   "outputs": [],
   "source": [
    "#Within a local CBSA, show which hospitals specialists typically refer patients to"
   ]
  },
  {
   "cell_type": "code",
   "execution_count": 56,
   "metadata": {},
   "outputs": [],
   "source": [
    "#provider speicality\n"
   ]
  },
  {
   "cell_type": "code",
   "execution_count": 306,
   "metadata": {},
   "outputs": [
    {
     "data": {
      "text/html": [
       "<div>\n",
       "<style scoped>\n",
       "    .dataframe tbody tr th:only-of-type {\n",
       "        vertical-align: middle;\n",
       "    }\n",
       "\n",
       "    .dataframe tbody tr th {\n",
       "        vertical-align: top;\n",
       "    }\n",
       "\n",
       "    .dataframe thead th {\n",
       "        text-align: right;\n",
       "    }\n",
       "</style>\n",
       "<table border=\"1\" class=\"dataframe\">\n",
       "  <thead>\n",
       "    <tr style=\"text-align: right;\">\n",
       "      <th></th>\n",
       "      <th>NPI</th>\n",
       "      <th>Entity Type Code</th>\n",
       "      <th>speciality</th>\n",
       "      <th>Fascility</th>\n",
       "    </tr>\n",
       "  </thead>\n",
       "  <tbody>\n",
       "    <tr>\n",
       "      <th>0</th>\n",
       "      <td>1679576722</td>\n",
       "      <td>1.0</td>\n",
       "      <td>Orthopedic Surgery</td>\n",
       "      <td>NaN</td>\n",
       "    </tr>\n",
       "  </tbody>\n",
       "</table>\n",
       "</div>"
      ],
      "text/plain": [
       "          NPI  Entity Type Code          speciality Fascility\n",
       "0  1679576722               1.0  Orthopedic Surgery       NaN"
      ]
     },
     "execution_count": 306,
     "metadata": {},
     "output_type": "execute_result"
    }
   ],
   "source": [
    "clean_npi_tax.head(1)"
   ]
  },
  {
   "cell_type": "code",
   "execution_count": 309,
   "metadata": {},
   "outputs": [],
   "source": [
    "#hop['from_specialist']=clean_npi_tax.speciality[clean_npi_tax.NPI==hop.from_npi]"
   ]
  },
  {
   "cell_type": "code",
   "execution_count": null,
   "metadata": {},
   "outputs": [],
   "source": [
    "#hop['to_Hospital']=clean_npi_tax.speciality[clean_npi_tax.NPI==hop,to_npi]"
   ]
  },
  {
   "cell_type": "code",
   "execution_count": 342,
   "metadata": {},
   "outputs": [],
   "source": [
    "from_npi_filter=clean_npi_tax['NPI'].isin(hop.from_npi)==False\n",
    "from_specialists_df=clean_npi_tax.drop(clean_npi_tax[from_npi_filter].index)"
   ]
  },
  {
   "cell_type": "code",
   "execution_count": 331,
   "metadata": {},
   "outputs": [],
   "source": [
    "from_specialists_df=from_specialists_df[['NPI','Entity Type Code','speciality']]\n",
    "from_specialists_df['from_npi']=from_specialists_df['NPI']"
   ]
  },
  {
   "cell_type": "code",
   "execution_count": 336,
   "metadata": {},
   "outputs": [],
   "source": [
    "from_specialists_df=from_specialists_df[['from_npi', 'speciality']].reset_index(drop=True)"
   ]
  },
  {
   "cell_type": "code",
   "execution_count": 349,
   "metadata": {},
   "outputs": [],
   "source": [
    "#hop=pd.merge(hop,from_specialists_df)"
   ]
  },
  {
   "cell_type": "code",
   "execution_count": 353,
   "metadata": {},
   "outputs": [],
   "source": [
    "# go over the hop filters make sure I didnt use the wrong boolean value"
   ]
  },
  {
   "cell_type": "code",
   "execution_count": 344,
   "metadata": {},
   "outputs": [],
   "source": [
    "to_npi_filter=clean_npi_tax['NPI'].isin(hop.to_npi)==False\n",
    "to_hospitals_df=clean_npi_tax.drop(clean_npi_tax[to_npi_filter].index)"
   ]
  },
  {
   "cell_type": "code",
   "execution_count": 345,
   "metadata": {},
   "outputs": [],
   "source": [
    "to_hospitals_df=from_specialists_df[['NPI','Entity Type Code','speciality']]\n",
    "to_hospitals_df['to_npi']=to_hospitals_df['NPI']"
   ]
  },
  {
   "cell_type": "code",
   "execution_count": 350,
   "metadata": {},
   "outputs": [
    {
     "ename": "KeyError",
     "evalue": "\"['Fascility'] not in index\"",
     "output_type": "error",
     "traceback": [
      "\u001b[1;31m---------------------------------------------------------------------------\u001b[0m",
      "\u001b[1;31mKeyError\u001b[0m                                  Traceback (most recent call last)",
      "\u001b[1;32m<ipython-input-350-86b0c6c64f05>\u001b[0m in \u001b[0;36m<module>\u001b[1;34m\u001b[0m\n\u001b[1;32m----> 1\u001b[1;33m \u001b[0mto_hospitals_df\u001b[0m\u001b[1;33m=\u001b[0m\u001b[0mto_hospitals_df\u001b[0m\u001b[1;33m[\u001b[0m\u001b[1;33m[\u001b[0m\u001b[1;34m'to_npi'\u001b[0m\u001b[1;33m,\u001b[0m \u001b[1;34m'Fascility'\u001b[0m\u001b[1;33m]\u001b[0m\u001b[1;33m]\u001b[0m\u001b[1;33m.\u001b[0m\u001b[0mreset_index\u001b[0m\u001b[1;33m(\u001b[0m\u001b[0mdrop\u001b[0m\u001b[1;33m=\u001b[0m\u001b[1;32mTrue\u001b[0m\u001b[1;33m)\u001b[0m\u001b[1;33m\u001b[0m\u001b[1;33m\u001b[0m\u001b[0m\n\u001b[0m",
      "\u001b[1;32m~\\Anaconda3\\lib\\site-packages\\pandas\\core\\frame.py\u001b[0m in \u001b[0;36m__getitem__\u001b[1;34m(self, key)\u001b[0m\n\u001b[0;32m   2680\u001b[0m         \u001b[1;32mif\u001b[0m \u001b[0misinstance\u001b[0m\u001b[1;33m(\u001b[0m\u001b[0mkey\u001b[0m\u001b[1;33m,\u001b[0m \u001b[1;33m(\u001b[0m\u001b[0mSeries\u001b[0m\u001b[1;33m,\u001b[0m \u001b[0mnp\u001b[0m\u001b[1;33m.\u001b[0m\u001b[0mndarray\u001b[0m\u001b[1;33m,\u001b[0m \u001b[0mIndex\u001b[0m\u001b[1;33m,\u001b[0m \u001b[0mlist\u001b[0m\u001b[1;33m)\u001b[0m\u001b[1;33m)\u001b[0m\u001b[1;33m:\u001b[0m\u001b[1;33m\u001b[0m\u001b[1;33m\u001b[0m\u001b[0m\n\u001b[0;32m   2681\u001b[0m             \u001b[1;31m# either boolean or fancy integer index\u001b[0m\u001b[1;33m\u001b[0m\u001b[1;33m\u001b[0m\u001b[1;33m\u001b[0m\u001b[0m\n\u001b[1;32m-> 2682\u001b[1;33m             \u001b[1;32mreturn\u001b[0m \u001b[0mself\u001b[0m\u001b[1;33m.\u001b[0m\u001b[0m_getitem_array\u001b[0m\u001b[1;33m(\u001b[0m\u001b[0mkey\u001b[0m\u001b[1;33m)\u001b[0m\u001b[1;33m\u001b[0m\u001b[1;33m\u001b[0m\u001b[0m\n\u001b[0m\u001b[0;32m   2683\u001b[0m         \u001b[1;32melif\u001b[0m \u001b[0misinstance\u001b[0m\u001b[1;33m(\u001b[0m\u001b[0mkey\u001b[0m\u001b[1;33m,\u001b[0m \u001b[0mDataFrame\u001b[0m\u001b[1;33m)\u001b[0m\u001b[1;33m:\u001b[0m\u001b[1;33m\u001b[0m\u001b[1;33m\u001b[0m\u001b[0m\n\u001b[0;32m   2684\u001b[0m             \u001b[1;32mreturn\u001b[0m \u001b[0mself\u001b[0m\u001b[1;33m.\u001b[0m\u001b[0m_getitem_frame\u001b[0m\u001b[1;33m(\u001b[0m\u001b[0mkey\u001b[0m\u001b[1;33m)\u001b[0m\u001b[1;33m\u001b[0m\u001b[1;33m\u001b[0m\u001b[0m\n",
      "\u001b[1;32m~\\Anaconda3\\lib\\site-packages\\pandas\\core\\frame.py\u001b[0m in \u001b[0;36m_getitem_array\u001b[1;34m(self, key)\u001b[0m\n\u001b[0;32m   2724\u001b[0m             \u001b[1;32mreturn\u001b[0m \u001b[0mself\u001b[0m\u001b[1;33m.\u001b[0m\u001b[0m_take\u001b[0m\u001b[1;33m(\u001b[0m\u001b[0mindexer\u001b[0m\u001b[1;33m,\u001b[0m \u001b[0maxis\u001b[0m\u001b[1;33m=\u001b[0m\u001b[1;36m0\u001b[0m\u001b[1;33m)\u001b[0m\u001b[1;33m\u001b[0m\u001b[1;33m\u001b[0m\u001b[0m\n\u001b[0;32m   2725\u001b[0m         \u001b[1;32melse\u001b[0m\u001b[1;33m:\u001b[0m\u001b[1;33m\u001b[0m\u001b[1;33m\u001b[0m\u001b[0m\n\u001b[1;32m-> 2726\u001b[1;33m             \u001b[0mindexer\u001b[0m \u001b[1;33m=\u001b[0m \u001b[0mself\u001b[0m\u001b[1;33m.\u001b[0m\u001b[0mloc\u001b[0m\u001b[1;33m.\u001b[0m\u001b[0m_convert_to_indexer\u001b[0m\u001b[1;33m(\u001b[0m\u001b[0mkey\u001b[0m\u001b[1;33m,\u001b[0m \u001b[0maxis\u001b[0m\u001b[1;33m=\u001b[0m\u001b[1;36m1\u001b[0m\u001b[1;33m)\u001b[0m\u001b[1;33m\u001b[0m\u001b[1;33m\u001b[0m\u001b[0m\n\u001b[0m\u001b[0;32m   2727\u001b[0m             \u001b[1;32mreturn\u001b[0m \u001b[0mself\u001b[0m\u001b[1;33m.\u001b[0m\u001b[0m_take\u001b[0m\u001b[1;33m(\u001b[0m\u001b[0mindexer\u001b[0m\u001b[1;33m,\u001b[0m \u001b[0maxis\u001b[0m\u001b[1;33m=\u001b[0m\u001b[1;36m1\u001b[0m\u001b[1;33m)\u001b[0m\u001b[1;33m\u001b[0m\u001b[1;33m\u001b[0m\u001b[0m\n\u001b[0;32m   2728\u001b[0m \u001b[1;33m\u001b[0m\u001b[0m\n",
      "\u001b[1;32m~\\Anaconda3\\lib\\site-packages\\pandas\\core\\indexing.py\u001b[0m in \u001b[0;36m_convert_to_indexer\u001b[1;34m(self, obj, axis, is_setter)\u001b[0m\n\u001b[0;32m   1325\u001b[0m                 \u001b[1;32mif\u001b[0m \u001b[0mmask\u001b[0m\u001b[1;33m.\u001b[0m\u001b[0many\u001b[0m\u001b[1;33m(\u001b[0m\u001b[1;33m)\u001b[0m\u001b[1;33m:\u001b[0m\u001b[1;33m\u001b[0m\u001b[1;33m\u001b[0m\u001b[0m\n\u001b[0;32m   1326\u001b[0m                     raise KeyError('{mask} not in index'\n\u001b[1;32m-> 1327\u001b[1;33m                                    .format(mask=objarr[mask]))\n\u001b[0m\u001b[0;32m   1328\u001b[0m \u001b[1;33m\u001b[0m\u001b[0m\n\u001b[0;32m   1329\u001b[0m                 \u001b[1;32mreturn\u001b[0m \u001b[0mcom\u001b[0m\u001b[1;33m.\u001b[0m\u001b[0m_values_from_object\u001b[0m\u001b[1;33m(\u001b[0m\u001b[0mindexer\u001b[0m\u001b[1;33m)\u001b[0m\u001b[1;33m\u001b[0m\u001b[1;33m\u001b[0m\u001b[0m\n",
      "\u001b[1;31mKeyError\u001b[0m: \"['Fascility'] not in index\""
     ]
    }
   ],
   "source": [
    "to_hospitals_df=to_hospitals_df[['to_npi', 'Fascility']].reset_index(drop=True)"
   ]
  },
  {
   "cell_type": "code",
   "execution_count": 351,
   "metadata": {},
   "outputs": [],
   "source": [
    "hop=pd.merge(hop,to_hospitals_df)"
   ]
  },
  {
   "cell_type": "code",
   "execution_count": 352,
   "metadata": {},
   "outputs": [
    {
     "data": {
      "text/html": [
       "<div>\n",
       "<style scoped>\n",
       "    .dataframe tbody tr th:only-of-type {\n",
       "        vertical-align: middle;\n",
       "    }\n",
       "\n",
       "    .dataframe tbody tr th {\n",
       "        vertical-align: top;\n",
       "    }\n",
       "\n",
       "    .dataframe thead th {\n",
       "        text-align: right;\n",
       "    }\n",
       "</style>\n",
       "<table border=\"1\" class=\"dataframe\">\n",
       "  <thead>\n",
       "    <tr style=\"text-align: right;\">\n",
       "      <th></th>\n",
       "      <th>from_npi</th>\n",
       "      <th>to_npi</th>\n",
       "      <th>patient_count</th>\n",
       "      <th>transaction_count</th>\n",
       "      <th>average_day_wait</th>\n",
       "      <th>std_day_wait</th>\n",
       "      <th>speciality</th>\n",
       "    </tr>\n",
       "  </thead>\n",
       "  <tbody>\n",
       "    <tr>\n",
       "      <th>0</th>\n",
       "      <td>1003245895</td>\n",
       "      <td>1003014952</td>\n",
       "      <td>23</td>\n",
       "      <td>217</td>\n",
       "      <td>0.0</td>\n",
       "      <td>0.0</td>\n",
       "      <td>Psychologist</td>\n",
       "    </tr>\n",
       "    <tr>\n",
       "      <th>1</th>\n",
       "      <td>1003245895</td>\n",
       "      <td>1003014952</td>\n",
       "      <td>23</td>\n",
       "      <td>217</td>\n",
       "      <td>0.0</td>\n",
       "      <td>0.0</td>\n",
       "      <td>Psychologist</td>\n",
       "    </tr>\n",
       "    <tr>\n",
       "      <th>2</th>\n",
       "      <td>1881831659</td>\n",
       "      <td>1003014952</td>\n",
       "      <td>28</td>\n",
       "      <td>130</td>\n",
       "      <td>0.0</td>\n",
       "      <td>0.0</td>\n",
       "      <td>Psychologist</td>\n",
       "    </tr>\n",
       "    <tr>\n",
       "      <th>3</th>\n",
       "      <td>1881831659</td>\n",
       "      <td>1003014952</td>\n",
       "      <td>28</td>\n",
       "      <td>130</td>\n",
       "      <td>0.0</td>\n",
       "      <td>0.0</td>\n",
       "      <td>Psychologist</td>\n",
       "    </tr>\n",
       "    <tr>\n",
       "      <th>4</th>\n",
       "      <td>1013955541</td>\n",
       "      <td>1427215904</td>\n",
       "      <td>84</td>\n",
       "      <td>261</td>\n",
       "      <td>0.0</td>\n",
       "      <td>0.0</td>\n",
       "      <td>Rheumatology</td>\n",
       "    </tr>\n",
       "  </tbody>\n",
       "</table>\n",
       "</div>"
      ],
      "text/plain": [
       "     from_npi      to_npi  patient_count  transaction_count  average_day_wait  \\\n",
       "0  1003245895  1003014952             23                217               0.0   \n",
       "1  1003245895  1003014952             23                217               0.0   \n",
       "2  1881831659  1003014952             28                130               0.0   \n",
       "3  1881831659  1003014952             28                130               0.0   \n",
       "4  1013955541  1427215904             84                261               0.0   \n",
       "\n",
       "   std_day_wait     speciality  \n",
       "0           0.0   Psychologist  \n",
       "1           0.0   Psychologist  \n",
       "2           0.0   Psychologist  \n",
       "3           0.0   Psychologist  \n",
       "4           0.0   Rheumatology  "
      ]
     },
     "execution_count": 352,
     "metadata": {},
     "output_type": "execute_result"
    }
   ],
   "source": [
    "hop.head()"
   ]
  },
  {
   "cell_type": "code",
   "execution_count": null,
   "metadata": {},
   "outputs": [],
   "source": []
  },
  {
   "cell_type": "code",
   "execution_count": null,
   "metadata": {},
   "outputs": [],
   "source": []
  },
  {
   "cell_type": "code",
   "execution_count": null,
   "metadata": {},
   "outputs": [],
   "source": []
  },
  {
   "cell_type": "code",
   "execution_count": null,
   "metadata": {},
   "outputs": [],
   "source": []
  },
  {
   "cell_type": "code",
   "execution_count": 16,
   "metadata": {},
   "outputs": [],
   "source": [
    "#all3merged_df=pd.merge(hop_df,npi_df,tax_df, how='inner')"
   ]
  },
  {
   "cell_type": "markdown",
   "metadata": {},
   "source": [
    "Entity Type\n",
    "1 = Provider (doctors, nurses, etc)\n",
    "2 = Facility (Hospitals, Urgent Care, Doctor Offices)\n",
    "Name\n",
    "First/Last etc\n",
    "Organization/Other Organization Name\n",
    "Address\n",
    "Business Practice Location (not mailing)\n",
    "Taxonomy Code\n",
    "Up to 15\n",
    "Use Primary Switch = Y – not always in spot 1"
   ]
  },
  {
   "cell_type": "code",
   "execution_count": 98,
   "metadata": {},
   "outputs": [],
   "source": [
    "nodes = pd.DataFrame(nodedata)\n",
    "edges = pd.DataFrame(edgedata)\n",
    "nodePath = 'nodes.csv'\n",
    "edgePath = 'edges.csv'"
   ]
  },
  {
   "cell_type": "code",
   "execution_count": null,
   "metadata": {},
   "outputs": [],
   "source": [
    "serverURL = 'localhost:7474'\n",
    "dbURL = 'http://localhost:7687/db/data'\n",
    "account = \"neo4j\"\n",
    "password = \"****\""
   ]
  },
  {
   "cell_type": "code",
   "execution_count": null,
   "metadata": {},
   "outputs": [],
   "source": [
    "nodes.to_csv(nodePath, index=False)\n",
    "edges.to_csv(edgePath, index=False)"
   ]
  },
  {
   "cell_type": "code",
   "execution_count": 18,
   "metadata": {},
   "outputs": [],
   "source": [
    "graph = Graph(dbURL)"
   ]
  },
  {
   "cell_type": "code",
   "execution_count": null,
   "metadata": {},
   "outputs": [],
   "source": [
    "def path2url(path):\n",
    "    return ('file:', u(path))\n"
   ]
  },
  {
   "cell_type": "code",
   "execution_count": null,
   "metadata": {},
   "outputs": [],
   "source": [
    "#cypher params\n",
    "nodename = \"Provider\"\n",
    "edgename = \"patient_count\"\n",
    "source_name = \"from_npi\"\n",
    "dest_name = \"to_npi\""
   ]
  },
  {
   "cell_type": "code",
   "execution_count": null,
   "metadata": {},
   "outputs": [],
   "source": [
    "graph.cypher.execute(\"LOAD CSV WITH HEADERS FROM '%s' AS csvLine \" % (path2url(nodePath)) +\n",
    "                     \" CREATE (p:\"+nodename+\" { id: toInt(csvLine.subid), name: csvLine.name, age: toInt(csvLine.age), \n",
    "                     fdg: toFloat(csvLine.fdg) })\")\n"
   ]
  },
  {
   "cell_type": "code",
   "execution_count": null,
   "metadata": {},
   "outputs": [],
   "source": [
    "#import edges\n",
    "tx = graph.cypher.begin()\n",
    "statement = \"USING PERIODIC COMMIT 500\" \\\n",
    "            + \" LOAD CSV WITH HEADERS FROM '\" + path2url(edgePath) + \"' AS csvLine\" \\\n",
    "            + \" MATCH (person:\"+source_name+\" { id: toInt(csvLine.source)}),(person1:\"+dest_name+\" { id: toInt(csvLine.dest)})\" \\\n",
    "            + \" CREATE (person)-[:\"+edgename+\" { rating: toInt(csvLine.rating), weight: toInt(csvLine.weight) }]->(person1)\"\n",
    "tx.append(statement)\n",
    "tx.commit()"
   ]
  },
  {
   "cell_type": "code",
   "execution_count": null,
   "metadata": {},
   "outputs": [],
   "source": [
    "\n",
    "#NODE BY NODE IMPORT\n",
    "for index, row in nodes.iterrows():\n",
    "    node = Node(nodename, id=int(row['subid']), age = row['age'], fdg = row['fdg'], name = row['name'])\n",
    "    graph.create(node)\n"
   ]
  },
  {
   "cell_type": "code",
   "execution_count": null,
   "metadata": {},
   "outputs": [],
   "source": [
    "for index, row in hop.iterrows():\n",
    "    source_node = graph.find_one(nodename, property_key='id', property_value=int(row['source']))\n",
    "    dest_node = graph.find_one(nodename, property_key='id', property_value = int(row['dest']))\n",
    "    relation = Relationship(source_node, edgename, dest_node, rating = int(row['rating']))\n",
    "    graph.create(relation)\n"
   ]
  },
  {
   "cell_type": "code",
   "execution_count": null,
   "metadata": {},
   "outputs": [],
   "source": []
  },
  {
   "cell_type": "code",
   "execution_count": null,
   "metadata": {},
   "outputs": [],
   "source": []
  },
  {
   "cell_type": "code",
   "execution_count": null,
   "metadata": {},
   "outputs": [],
   "source": []
  },
  {
   "cell_type": "code",
   "execution_count": null,
   "metadata": {},
   "outputs": [],
   "source": [
    "CODE BACKUP\n",
    "# Load CSV\n",
    "LOAD CSV WITH HEADERS FROM 'file:///small_hopping.csv' AS line\n",
    "CREATE (:Provider { npi: line.from_npi}) -[:Referred {patient_count: line.patient_count}]-> (:Provider {npi: line.to_npi})\n",
    "\n",
    "#LOAD WITH PROPER EDGES/NODES\n",
    "LOAD CSV WITH HEADERS FROM 'file:///small_hopping.csv' AS line\n",
    "MERGE (f:Provider { npi: line.from_npi} )\n",
    "MERGE (t:Provider { npi: line.to_npi} )\n",
    "MERGE (f)-[:Referred {patient_count: line.patient_count}]->(t)\n",
    "\n",
    "#Delete all nodes and edges\n",
    "MATCH (p:Provider) DETACH DELETE p\n",
    "\n",
    "\n"
   ]
  },
  {
   "cell_type": "code",
   "execution_count": null,
   "metadata": {},
   "outputs": [],
   "source": []
  },
  {
   "cell_type": "code",
   "execution_count": null,
   "metadata": {},
   "outputs": [],
   "source": [
    "LOAD CSV WITH HEADERS FROM 'file:///small_hopping.csv' AS row \n",
    "MERGE (p1:Provider {npi:row.from_npi}) \n",
    "MERGE (p2:Provider {npi:row.to_npi}) \n",
    "MERGE (p1)-[:REFERRED_TO {patient_count:row.patient_count, transaction_count:row.transaction_count, \n",
    "average_day_wait:row.average_day_wait}]->(p2);\n",
    "MATCH (p1:Provider)-[c:REFERRED_TO]->(p2:Provider) return p1,c,p2"
   ]
  },
  {
   "cell_type": "code",
   "execution_count": null,
   "metadata": {},
   "outputs": [],
   "source": []
  },
  {
   "cell_type": "code",
   "execution_count": null,
   "metadata": {},
   "outputs": [],
   "source": []
  },
  {
   "cell_type": "code",
   "execution_count": null,
   "metadata": {},
   "outputs": [],
   "source": []
  },
  {
   "cell_type": "code",
   "execution_count": null,
   "metadata": {},
   "outputs": [],
   "source": []
  }
 ],
 "metadata": {
  "kernelspec": {
   "display_name": "Python 3",
   "language": "python",
   "name": "python3"
  },
  "language_info": {
   "codemirror_mode": {
    "name": "ipython",
    "version": 3
   },
   "file_extension": ".py",
   "mimetype": "text/x-python",
   "name": "python",
   "nbconvert_exporter": "python",
   "pygments_lexer": "ipython3",
   "version": "3.7.1"
  }
 },
 "nbformat": 4,
 "nbformat_minor": 2
}
