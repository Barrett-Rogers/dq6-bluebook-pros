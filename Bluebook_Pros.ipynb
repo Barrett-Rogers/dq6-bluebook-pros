{
 "cells": [
  {
   "cell_type": "code",
   "execution_count": 1,
   "metadata": {},
   "outputs": [],
   "source": [
    "import pandas as pd \n",
    "#import numpy as np \n",
    "import dask\n",
    "import dask.dataframe as dd\n",
    "from dask.distributed import Client\n",
    "import glob"
   ]
  },
  {
   "cell_type": "code",
   "execution_count": 2,
   "metadata": {},
   "outputs": [],
   "source": [
    "client = Client(n_workers = 8)"
   ]
  },
  {
   "cell_type": "code",
   "execution_count": 3,
   "metadata": {},
   "outputs": [
    {
     "data": {
      "text/html": [
       "<table style=\"border: 2px solid white;\">\n",
       "<tr>\n",
       "<td style=\"vertical-align: top; border: 0px solid white\">\n",
       "<h3 style=\"text-align: left;\">Client</h3>\n",
       "<ul style=\"text-align: left; list-style: none; margin: 0; padding: 0;\">\n",
       "  <li><b>Scheduler: </b>tcp://127.0.0.1:52070</li>\n",
       "  <li><b>Dashboard: </b><a href='http://127.0.0.1:8787/status' target='_blank'>http://127.0.0.1:8787/status</a>\n",
       "</ul>\n",
       "</td>\n",
       "<td style=\"vertical-align: top; border: 0px solid white\">\n",
       "<h3 style=\"text-align: left;\">Cluster</h3>\n",
       "<ul style=\"text-align: left; list-style:none; margin: 0; padding: 0;\">\n",
       "  <li><b>Workers: </b>8</li>\n",
       "  <li><b>Cores: </b>8</li>\n",
       "  <li><b>Memory: </b>8.59 GB</li>\n",
       "</ul>\n",
       "</td>\n",
       "</tr>\n",
       "</table>"
      ],
      "text/plain": [
       "<Client: 'tcp://127.0.0.1:52070' processes=8 threads=8, memory=8.59 GB>"
      ]
     },
     "execution_count": 3,
     "metadata": {},
     "output_type": "execute_result"
    }
   ],
   "source": [
    "client"
   ]
  },
  {
   "cell_type": "code",
   "execution_count": 4,
   "metadata": {},
   "outputs": [],
   "source": [
    "\n",
    "\n",
    "# Read in hopteaming using Dask \n",
    "\n"
   ]
  },
  {
   "cell_type": "markdown",
   "metadata": {},
   "source": [
    "# Hopteaming Dask"
   ]
  },
  {
   "cell_type": "code",
   "execution_count": 5,
   "metadata": {},
   "outputs": [],
   "source": [
    "hopteaming = dd.read_csv('DocGraph_Hop_Teaming_2017_Non_Commercial/DocGraph_Hop_Teaming_2017.csv')"
   ]
  },
  {
   "cell_type": "code",
   "execution_count": 6,
   "metadata": {},
   "outputs": [],
   "source": [
    "# filter hopteaming\n",
    "\n",
    "\n",
    "hopteaming = hopteaming[(hopteaming['transaction_count'] > 50) & (hopteaming['average_day_wait'] < 50)]"
   ]
  },
  {
   "cell_type": "code",
   "execution_count": 7,
   "metadata": {},
   "outputs": [
    {
     "name": "stdout",
     "output_type": "stream",
     "text": [
      "CPU times: user 13.2 s, sys: 6.72 s, total: 19.9 s\n",
      "Wall time: 1min 39s\n"
     ]
    }
   ],
   "source": [
    "%time hopteaming = hopteaming.compute()"
   ]
  },
  {
   "cell_type": "code",
   "execution_count": 8,
   "metadata": {},
   "outputs": [],
   "source": [
    "\n",
    "\n",
    "# Read in the smaller dataframes \n",
    "\n"
   ]
  },
  {
   "cell_type": "markdown",
   "metadata": {},
   "source": [
    "# NPI "
   ]
  },
  {
   "cell_type": "code",
   "execution_count": 9,
   "metadata": {},
   "outputs": [],
   "source": [
    "NPPES_o = dd.read_csv('NPPES_Data_Dissemination_February_2020/npidata_pfile_20050523-20200209.csv', dtype = 'str')"
   ]
  },
  {
   "cell_type": "code",
   "execution_count": 10,
   "metadata": {},
   "outputs": [],
   "source": [
    "# pd.set_option('display.max_columns', None)"
   ]
  },
  {
   "cell_type": "code",
   "execution_count": 34,
   "metadata": {},
   "outputs": [
    {
     "name": "stderr",
     "output_type": "stream",
     "text": [
      "/opt/anaconda3/lib/python3.7/site-packages/IPython/core/interactiveshell.py:3058: DtypeWarning: Columns (24,317,318,319,320,321,322,323,324,325,326,327,328) have mixed types. Specify dtype option on import or set low_memory=False.\n",
      "  interactivity=interactivity, compiler=compiler, result=result)\n",
      "distributed.comm.tcp - WARNING - Closing dangling stream in <TCP  local=tcp://127.0.0.1:52195 remote=tcp://127.0.0.1:52070>\n",
      "distributed.comm.tcp - WARNING - Closing dangling stream in <TCP  local=tcp://127.0.0.1:52196 remote=tcp://127.0.0.1:52070>\n"
     ]
    }
   ],
   "source": [
    "NPPES = pd.read_csv('NPPES_Data_Dissemination_February_2020/npidata_pfile_20050523-20200209.csv', \n",
    "                    usecols = ['NPI', 'Entity Type Code', 'Provider Business Mailing Address State Name', 'Provider Business Mailing Address Postal Code',\n",
    "       'Healthcare Provider Taxonomy Code_1',\n",
    "       'Healthcare Provider Taxonomy Group_2', \n",
    "       'Healthcare Provider Taxonomy Group_3', \n",
    "       'Healthcare Provider Taxonomy Group_4', \n",
    "       'Healthcare Provider Taxonomy Group_5', \n",
    "       'Healthcare Provider Taxonomy Group_6', \n",
    "       'Healthcare Provider Taxonomy Group_7',\n",
    "       'Healthcare Provider Taxonomy Group_8',\n",
    "       'Healthcare Provider Taxonomy Group_9',\n",
    "       'Healthcare Provider Taxonomy Group_10',\n",
    "       'Healthcare Provider Taxonomy Group_11',\n",
    "       'Healthcare Provider Taxonomy Group_12',\n",
    "       'Healthcare Provider Taxonomy Group_13',\n",
    "       'Healthcare Provider Taxonomy Group_14',\n",
    "       'Healthcare Provider Taxonomy Group_15'])"
   ]
  },
  {
   "cell_type": "code",
   "execution_count": 35,
   "metadata": {},
   "outputs": [
    {
     "name": "stdout",
     "output_type": "stream",
     "text": [
      "<class 'pandas.core.frame.DataFrame'>\n",
      "RangeIndex: 6277896 entries, 0 to 6277895\n",
      "Data columns (total 19 columns):\n",
      "NPI                                              int64\n",
      "Entity Type Code                                 float64\n",
      "Provider Business Mailing Address State Name     object\n",
      "Provider Business Mailing Address Postal Code    object\n",
      "Healthcare Provider Taxonomy Code_1              object\n",
      "Healthcare Provider Taxonomy Group_2             object\n",
      "Healthcare Provider Taxonomy Group_3             object\n",
      "Healthcare Provider Taxonomy Group_4             object\n",
      "Healthcare Provider Taxonomy Group_5             object\n",
      "Healthcare Provider Taxonomy Group_6             object\n",
      "Healthcare Provider Taxonomy Group_7             object\n",
      "Healthcare Provider Taxonomy Group_8             object\n",
      "Healthcare Provider Taxonomy Group_9             object\n",
      "Healthcare Provider Taxonomy Group_10            object\n",
      "Healthcare Provider Taxonomy Group_11            object\n",
      "Healthcare Provider Taxonomy Group_12            object\n",
      "Healthcare Provider Taxonomy Group_13            object\n",
      "Healthcare Provider Taxonomy Group_14            object\n",
      "Healthcare Provider Taxonomy Group_15            object\n",
      "dtypes: float64(1), int64(1), object(17)\n",
      "memory usage: 910.0+ MB\n"
     ]
    }
   ],
   "source": [
    "NPPES.info()"
   ]
  },
  {
   "cell_type": "code",
   "execution_count": 36,
   "metadata": {},
   "outputs": [],
   "source": [
    "# NPI from object to int64 \n",
    "\n",
    "NPPES.NPI = NPPES.NPI.astype('int64')"
   ]
  },
  {
   "cell_type": "code",
   "execution_count": 37,
   "metadata": {},
   "outputs": [
    {
     "name": "stdout",
     "output_type": "stream",
     "text": [
      "CPU times: user 7.08 s, sys: 4.17 s, total: 11.3 s\n",
      "Wall time: 12.7 s\n"
     ]
    }
   ],
   "source": [
    "%time NPPES.to_pickle('NPPES_Data_Dissemination_February_2020/npidata_pfile_20050523-20200209.pkl')"
   ]
  },
  {
   "cell_type": "code",
   "execution_count": 38,
   "metadata": {},
   "outputs": [
    {
     "name": "stdout",
     "output_type": "stream",
     "text": [
      "CPU times: user 9.86 s, sys: 14.3 s, total: 24.2 s\n",
      "Wall time: 28.2 s\n"
     ]
    }
   ],
   "source": [
    "%time NPPES = pd.read_pickle('NPPES_Data_Dissemination_February_2020/npidata_pfile_20050523-20200209.pkl')"
   ]
  },
  {
   "cell_type": "code",
   "execution_count": 39,
   "metadata": {},
   "outputs": [
    {
     "data": {
      "text/plain": [
       "(6277896, 19)"
      ]
     },
     "execution_count": 39,
     "metadata": {},
     "output_type": "execute_result"
    }
   ],
   "source": [
    "NPPES.shape"
   ]
  },
  {
   "cell_type": "markdown",
   "metadata": {},
   "source": [
    "# POS"
   ]
  },
  {
   "cell_type": "code",
   "execution_count": 51,
   "metadata": {},
   "outputs": [
    {
     "name": "stderr",
     "output_type": "stream",
     "text": [
      "<string>:2: DtypeWarning: Columns (7,8,24,40,41,42,43,46,49,52,61,81,98) have mixed types. Specify dtype option on import or set low_memory=False.\n"
     ]
    },
    {
     "name": "stdout",
     "output_type": "stream",
     "text": [
      "CPU times: user 9.15 s, sys: 1.38 s, total: 10.5 s\n",
      "Wall time: 10.2 s\n"
     ]
    }
   ],
   "source": [
    "%time POS = pd.read_csv('POS_CLIA_CSV_DEC19/POS_CLIA_DEC19.csv')"
   ]
  },
  {
   "cell_type": "code",
   "execution_count": 52,
   "metadata": {},
   "outputs": [
    {
     "data": {
      "text/html": [
       "<div>\n",
       "<style scoped>\n",
       "    .dataframe tbody tr th:only-of-type {\n",
       "        vertical-align: middle;\n",
       "    }\n",
       "\n",
       "    .dataframe tbody tr th {\n",
       "        vertical-align: top;\n",
       "    }\n",
       "\n",
       "    .dataframe thead th {\n",
       "        text-align: right;\n",
       "    }\n",
       "</style>\n",
       "<table border=\"1\" class=\"dataframe\">\n",
       "  <thead>\n",
       "    <tr style=\"text-align: right;\">\n",
       "      <th></th>\n",
       "      <th>PRVDR_CTGRY_SBTYP_CD</th>\n",
       "      <th>PRVDR_CTGRY_CD</th>\n",
       "      <th>CHOW_CNT</th>\n",
       "      <th>CHOW_DT</th>\n",
       "      <th>CITY_NAME</th>\n",
       "      <th>ACPTBL_POC_SW</th>\n",
       "      <th>CMPLNC_STUS_CD</th>\n",
       "      <th>SSA_CNTY_CD</th>\n",
       "      <th>CROSS_REF_PROVIDER_NUMBER</th>\n",
       "      <th>CRTFCTN_DT</th>\n",
       "      <th>...</th>\n",
       "      <th>LAB_SITE_CNT</th>\n",
       "      <th>PPMP_TEST_VOL_CNT</th>\n",
       "      <th>ADDTNL_FAC_NAME</th>\n",
       "      <th>RELATED_PROVIDER_NUMBER</th>\n",
       "      <th>SHR_LAB_SW</th>\n",
       "      <th>SHARED_LAB_XREF_NUMBER</th>\n",
       "      <th>FORM_1557_CRTFCT_SCHDL_CD</th>\n",
       "      <th>FORM_1557_CMPLNC_SCHDL_CD</th>\n",
       "      <th>FORM_1557_TEST_VOL_CNT</th>\n",
       "      <th>WVD_TEST_VOL_CNT</th>\n",
       "    </tr>\n",
       "  </thead>\n",
       "  <tbody>\n",
       "    <tr>\n",
       "      <td>0</td>\n",
       "      <td>1</td>\n",
       "      <td>22</td>\n",
       "      <td>0</td>\n",
       "      <td>NaN</td>\n",
       "      <td>ALABASTER</td>\n",
       "      <td>N</td>\n",
       "      <td>NaN</td>\n",
       "      <td>580</td>\n",
       "      <td>NaN</td>\n",
       "      <td>19930223</td>\n",
       "      <td>...</td>\n",
       "      <td>0</td>\n",
       "      <td>0</td>\n",
       "      <td>NaN</td>\n",
       "      <td>NaN</td>\n",
       "      <td>N</td>\n",
       "      <td>NaN</td>\n",
       "      <td>NaN</td>\n",
       "      <td>NaN</td>\n",
       "      <td>0.0</td>\n",
       "      <td>21061</td>\n",
       "    </tr>\n",
       "    <tr>\n",
       "      <td>1</td>\n",
       "      <td>1</td>\n",
       "      <td>22</td>\n",
       "      <td>0</td>\n",
       "      <td>NaN</td>\n",
       "      <td>CULLMAN</td>\n",
       "      <td>N</td>\n",
       "      <td>NaN</td>\n",
       "      <td>210</td>\n",
       "      <td>NaN</td>\n",
       "      <td>19921224</td>\n",
       "      <td>...</td>\n",
       "      <td>0</td>\n",
       "      <td>0</td>\n",
       "      <td>NaN</td>\n",
       "      <td>NaN</td>\n",
       "      <td>N</td>\n",
       "      <td>NaN</td>\n",
       "      <td>NaN</td>\n",
       "      <td>NaN</td>\n",
       "      <td>0.0</td>\n",
       "      <td>440</td>\n",
       "    </tr>\n",
       "    <tr>\n",
       "      <td>2</td>\n",
       "      <td>1</td>\n",
       "      <td>22</td>\n",
       "      <td>0</td>\n",
       "      <td>NaN</td>\n",
       "      <td>CULLMAN</td>\n",
       "      <td>N</td>\n",
       "      <td>NaN</td>\n",
       "      <td>210</td>\n",
       "      <td>01D0300143</td>\n",
       "      <td>19921224</td>\n",
       "      <td>...</td>\n",
       "      <td>0</td>\n",
       "      <td>0</td>\n",
       "      <td>NaN</td>\n",
       "      <td>NaN</td>\n",
       "      <td>N</td>\n",
       "      <td>NaN</td>\n",
       "      <td>NaN</td>\n",
       "      <td>NaN</td>\n",
       "      <td>0.0</td>\n",
       "      <td>0</td>\n",
       "    </tr>\n",
       "    <tr>\n",
       "      <td>3</td>\n",
       "      <td>1</td>\n",
       "      <td>22</td>\n",
       "      <td>0</td>\n",
       "      <td>NaN</td>\n",
       "      <td>PELL CITY</td>\n",
       "      <td>N</td>\n",
       "      <td>B</td>\n",
       "      <td>570</td>\n",
       "      <td>NaN</td>\n",
       "      <td>20061213</td>\n",
       "      <td>...</td>\n",
       "      <td>0</td>\n",
       "      <td>0</td>\n",
       "      <td>NaN</td>\n",
       "      <td>NaN</td>\n",
       "      <td>N</td>\n",
       "      <td>NaN</td>\n",
       "      <td>NaN</td>\n",
       "      <td>NaN</td>\n",
       "      <td>0.0</td>\n",
       "      <td>12801</td>\n",
       "    </tr>\n",
       "    <tr>\n",
       "      <td>4</td>\n",
       "      <td>1</td>\n",
       "      <td>22</td>\n",
       "      <td>0</td>\n",
       "      <td>NaN</td>\n",
       "      <td>TALLADEGA</td>\n",
       "      <td>N</td>\n",
       "      <td>A</td>\n",
       "      <td>600</td>\n",
       "      <td>NaN</td>\n",
       "      <td>20090624</td>\n",
       "      <td>...</td>\n",
       "      <td>0</td>\n",
       "      <td>0</td>\n",
       "      <td>NaN</td>\n",
       "      <td>NaN</td>\n",
       "      <td>N</td>\n",
       "      <td>NaN</td>\n",
       "      <td>NaN</td>\n",
       "      <td>NaN</td>\n",
       "      <td>0.0</td>\n",
       "      <td>22637</td>\n",
       "    </tr>\n",
       "  </tbody>\n",
       "</table>\n",
       "<p>5 rows × 103 columns</p>\n",
       "</div>"
      ],
      "text/plain": [
       "   PRVDR_CTGRY_SBTYP_CD  PRVDR_CTGRY_CD  CHOW_CNT  CHOW_DT  CITY_NAME  \\\n",
       "0                     1              22         0      NaN  ALABASTER   \n",
       "1                     1              22         0      NaN    CULLMAN   \n",
       "2                     1              22         0      NaN    CULLMAN   \n",
       "3                     1              22         0      NaN  PELL CITY   \n",
       "4                     1              22         0      NaN  TALLADEGA   \n",
       "\n",
       "  ACPTBL_POC_SW CMPLNC_STUS_CD SSA_CNTY_CD CROSS_REF_PROVIDER_NUMBER  \\\n",
       "0             N            NaN         580                       NaN   \n",
       "1             N            NaN         210                       NaN   \n",
       "2             N            NaN         210                01D0300143   \n",
       "3             N              B         570                       NaN   \n",
       "4             N              A         600                       NaN   \n",
       "\n",
       "   CRTFCTN_DT  ... LAB_SITE_CNT PPMP_TEST_VOL_CNT  ADDTNL_FAC_NAME  \\\n",
       "0    19930223  ...            0                 0              NaN   \n",
       "1    19921224  ...            0                 0              NaN   \n",
       "2    19921224  ...            0                 0              NaN   \n",
       "3    20061213  ...            0                 0              NaN   \n",
       "4    20090624  ...            0                 0              NaN   \n",
       "\n",
       "   RELATED_PROVIDER_NUMBER  SHR_LAB_SW  SHARED_LAB_XREF_NUMBER  \\\n",
       "0                      NaN           N                     NaN   \n",
       "1                      NaN           N                     NaN   \n",
       "2                      NaN           N                     NaN   \n",
       "3                      NaN           N                     NaN   \n",
       "4                      NaN           N                     NaN   \n",
       "\n",
       "   FORM_1557_CRTFCT_SCHDL_CD FORM_1557_CMPLNC_SCHDL_CD  \\\n",
       "0                        NaN                       NaN   \n",
       "1                        NaN                       NaN   \n",
       "2                        NaN                       NaN   \n",
       "3                        NaN                       NaN   \n",
       "4                        NaN                       NaN   \n",
       "\n",
       "   FORM_1557_TEST_VOL_CNT WVD_TEST_VOL_CNT  \n",
       "0                     0.0            21061  \n",
       "1                     0.0              440  \n",
       "2                     0.0                0  \n",
       "3                     0.0            12801  \n",
       "4                     0.0            22637  \n",
       "\n",
       "[5 rows x 103 columns]"
      ]
     },
     "execution_count": 52,
     "metadata": {},
     "output_type": "execute_result"
    }
   ],
   "source": [
    "POS.head()"
   ]
  },
  {
   "cell_type": "code",
   "execution_count": null,
   "metadata": {},
   "outputs": [],
   "source": [
    "POS.shape"
   ]
  },
  {
   "cell_type": "markdown",
   "metadata": {},
   "source": [
    "# Join hopteaming and NPI"
   ]
  },
  {
   "cell_type": "code",
   "execution_count": 18,
   "metadata": {},
   "outputs": [],
   "source": [
    "# pickle hop, merge hop with NPI inner"
   ]
  },
  {
   "cell_type": "code",
   "execution_count": 19,
   "metadata": {},
   "outputs": [
    {
     "name": "stdout",
     "output_type": "stream",
     "text": [
      "<class 'pandas.core.frame.DataFrame'>\n",
      "Int64Index: 31127390 entries, 3 to 741287\n",
      "Data columns (total 6 columns):\n",
      "from_npi             int64\n",
      "to_npi               int64\n",
      "patient_count        int64\n",
      "transaction_count    int64\n",
      "average_day_wait     float64\n",
      "std_day_wait         float64\n",
      "dtypes: float64(2), int64(4)\n",
      "memory usage: 1.6 GB\n"
     ]
    }
   ],
   "source": [
    "hopteaming.info()"
   ]
  },
  {
   "cell_type": "code",
   "execution_count": 20,
   "metadata": {},
   "outputs": [],
   "source": [
    "# %time hopteaming.to_pickle('DocGraph_Hop_Teaming_2017_Non_Commercial/DocGraph_Hop_Teaming_2017.pkl')"
   ]
  },
  {
   "cell_type": "code",
   "execution_count": 21,
   "metadata": {},
   "outputs": [],
   "source": [
    "hopteaming = pd.read_pickle('DocGraph_Hop_Teaming_2017_Non_Commercial/DocGraph_Hop_Teaming_2017.pkl')"
   ]
  },
  {
   "cell_type": "code",
   "execution_count": 22,
   "metadata": {},
   "outputs": [
    {
     "name": "stdout",
     "output_type": "stream",
     "text": [
      "<class 'pandas.core.frame.DataFrame'>\n",
      "Int64Index: 31127390 entries, 3 to 741287\n",
      "Data columns (total 6 columns):\n",
      "from_npi             int64\n",
      "to_npi               int64\n",
      "patient_count        int64\n",
      "transaction_count    int64\n",
      "average_day_wait     float64\n",
      "std_day_wait         float64\n",
      "dtypes: float64(2), int64(4)\n",
      "memory usage: 1.6 GB\n"
     ]
    }
   ],
   "source": [
    "hopteaming.info()"
   ]
  },
  {
   "cell_type": "markdown",
   "metadata": {},
   "source": [
    "I wonder if the reason there's no change in the size is because the file from before is still the pickle file? If not, why is there no change in size? "
   ]
  },
  {
   "cell_type": "code",
   "execution_count": 40,
   "metadata": {},
   "outputs": [
    {
     "name": "stdout",
     "output_type": "stream",
     "text": [
      "CPU times: user 25.8 s, sys: 25.1 s, total: 50.9 s\n",
      "Wall time: 1min 5s\n"
     ]
    }
   ],
   "source": [
    "%time hop_NPI = pd.merge(left = hopteaming, right = NPPES, how = 'inner', left_on = 'from_npi', right_on = 'NPI')"
   ]
  },
  {
   "cell_type": "code",
   "execution_count": 42,
   "metadata": {},
   "outputs": [
    {
     "data": {
      "text/html": [
       "<div>\n",
       "<style scoped>\n",
       "    .dataframe tbody tr th:only-of-type {\n",
       "        vertical-align: middle;\n",
       "    }\n",
       "\n",
       "    .dataframe tbody tr th {\n",
       "        vertical-align: top;\n",
       "    }\n",
       "\n",
       "    .dataframe thead th {\n",
       "        text-align: right;\n",
       "    }\n",
       "</style>\n",
       "<table border=\"1\" class=\"dataframe\">\n",
       "  <thead>\n",
       "    <tr style=\"text-align: right;\">\n",
       "      <th></th>\n",
       "      <th>from_npi</th>\n",
       "      <th>to_npi</th>\n",
       "      <th>patient_count</th>\n",
       "      <th>transaction_count</th>\n",
       "      <th>average_day_wait</th>\n",
       "      <th>std_day_wait</th>\n",
       "      <th>NPI</th>\n",
       "      <th>Entity Type Code</th>\n",
       "      <th>Provider Business Mailing Address State Name</th>\n",
       "      <th>Provider Business Mailing Address Postal Code</th>\n",
       "      <th>...</th>\n",
       "      <th>Healthcare Provider Taxonomy Group_6</th>\n",
       "      <th>Healthcare Provider Taxonomy Group_7</th>\n",
       "      <th>Healthcare Provider Taxonomy Group_8</th>\n",
       "      <th>Healthcare Provider Taxonomy Group_9</th>\n",
       "      <th>Healthcare Provider Taxonomy Group_10</th>\n",
       "      <th>Healthcare Provider Taxonomy Group_11</th>\n",
       "      <th>Healthcare Provider Taxonomy Group_12</th>\n",
       "      <th>Healthcare Provider Taxonomy Group_13</th>\n",
       "      <th>Healthcare Provider Taxonomy Group_14</th>\n",
       "      <th>Healthcare Provider Taxonomy Group_15</th>\n",
       "    </tr>\n",
       "  </thead>\n",
       "  <tbody>\n",
       "    <tr>\n",
       "      <td>0</td>\n",
       "      <td>1033142146</td>\n",
       "      <td>1000000004</td>\n",
       "      <td>491</td>\n",
       "      <td>535</td>\n",
       "      <td>10.232</td>\n",
       "      <td>36.558</td>\n",
       "      <td>1033142146</td>\n",
       "      <td>2.0</td>\n",
       "      <td>MO</td>\n",
       "      <td>6.30173e+08</td>\n",
       "      <td>...</td>\n",
       "      <td>NaN</td>\n",
       "      <td>NaN</td>\n",
       "      <td>NaN</td>\n",
       "      <td>NaN</td>\n",
       "      <td>NaN</td>\n",
       "      <td>NaN</td>\n",
       "      <td>NaN</td>\n",
       "      <td>NaN</td>\n",
       "      <td>NaN</td>\n",
       "      <td>NaN</td>\n",
       "    </tr>\n",
       "    <tr>\n",
       "      <td>1</td>\n",
       "      <td>1033142146</td>\n",
       "      <td>1003112558</td>\n",
       "      <td>46</td>\n",
       "      <td>62</td>\n",
       "      <td>38.371</td>\n",
       "      <td>47.703</td>\n",
       "      <td>1033142146</td>\n",
       "      <td>2.0</td>\n",
       "      <td>MO</td>\n",
       "      <td>6.30173e+08</td>\n",
       "      <td>...</td>\n",
       "      <td>NaN</td>\n",
       "      <td>NaN</td>\n",
       "      <td>NaN</td>\n",
       "      <td>NaN</td>\n",
       "      <td>NaN</td>\n",
       "      <td>NaN</td>\n",
       "      <td>NaN</td>\n",
       "      <td>NaN</td>\n",
       "      <td>NaN</td>\n",
       "      <td>NaN</td>\n",
       "    </tr>\n",
       "    <tr>\n",
       "      <td>2</td>\n",
       "      <td>1033142146</td>\n",
       "      <td>1003810375</td>\n",
       "      <td>71</td>\n",
       "      <td>152</td>\n",
       "      <td>27.684</td>\n",
       "      <td>38.834</td>\n",
       "      <td>1033142146</td>\n",
       "      <td>2.0</td>\n",
       "      <td>MO</td>\n",
       "      <td>6.30173e+08</td>\n",
       "      <td>...</td>\n",
       "      <td>NaN</td>\n",
       "      <td>NaN</td>\n",
       "      <td>NaN</td>\n",
       "      <td>NaN</td>\n",
       "      <td>NaN</td>\n",
       "      <td>NaN</td>\n",
       "      <td>NaN</td>\n",
       "      <td>NaN</td>\n",
       "      <td>NaN</td>\n",
       "      <td>NaN</td>\n",
       "    </tr>\n",
       "    <tr>\n",
       "      <td>3</td>\n",
       "      <td>1033142146</td>\n",
       "      <td>1003847591</td>\n",
       "      <td>134</td>\n",
       "      <td>141</td>\n",
       "      <td>8.879</td>\n",
       "      <td>36.903</td>\n",
       "      <td>1033142146</td>\n",
       "      <td>2.0</td>\n",
       "      <td>MO</td>\n",
       "      <td>6.30173e+08</td>\n",
       "      <td>...</td>\n",
       "      <td>NaN</td>\n",
       "      <td>NaN</td>\n",
       "      <td>NaN</td>\n",
       "      <td>NaN</td>\n",
       "      <td>NaN</td>\n",
       "      <td>NaN</td>\n",
       "      <td>NaN</td>\n",
       "      <td>NaN</td>\n",
       "      <td>NaN</td>\n",
       "      <td>NaN</td>\n",
       "    </tr>\n",
       "    <tr>\n",
       "      <td>4</td>\n",
       "      <td>1033142146</td>\n",
       "      <td>1003883430</td>\n",
       "      <td>54</td>\n",
       "      <td>63</td>\n",
       "      <td>32.286</td>\n",
       "      <td>55.826</td>\n",
       "      <td>1033142146</td>\n",
       "      <td>2.0</td>\n",
       "      <td>MO</td>\n",
       "      <td>6.30173e+08</td>\n",
       "      <td>...</td>\n",
       "      <td>NaN</td>\n",
       "      <td>NaN</td>\n",
       "      <td>NaN</td>\n",
       "      <td>NaN</td>\n",
       "      <td>NaN</td>\n",
       "      <td>NaN</td>\n",
       "      <td>NaN</td>\n",
       "      <td>NaN</td>\n",
       "      <td>NaN</td>\n",
       "      <td>NaN</td>\n",
       "    </tr>\n",
       "  </tbody>\n",
       "</table>\n",
       "<p>5 rows × 25 columns</p>\n",
       "</div>"
      ],
      "text/plain": [
       "     from_npi      to_npi  patient_count  transaction_count  average_day_wait  \\\n",
       "0  1033142146  1000000004            491                535            10.232   \n",
       "1  1033142146  1003112558             46                 62            38.371   \n",
       "2  1033142146  1003810375             71                152            27.684   \n",
       "3  1033142146  1003847591            134                141             8.879   \n",
       "4  1033142146  1003883430             54                 63            32.286   \n",
       "\n",
       "   std_day_wait         NPI  Entity Type Code  \\\n",
       "0        36.558  1033142146               2.0   \n",
       "1        47.703  1033142146               2.0   \n",
       "2        38.834  1033142146               2.0   \n",
       "3        36.903  1033142146               2.0   \n",
       "4        55.826  1033142146               2.0   \n",
       "\n",
       "  Provider Business Mailing Address State Name  \\\n",
       "0                                           MO   \n",
       "1                                           MO   \n",
       "2                                           MO   \n",
       "3                                           MO   \n",
       "4                                           MO   \n",
       "\n",
       "  Provider Business Mailing Address Postal Code  ...  \\\n",
       "0                                   6.30173e+08  ...   \n",
       "1                                   6.30173e+08  ...   \n",
       "2                                   6.30173e+08  ...   \n",
       "3                                   6.30173e+08  ...   \n",
       "4                                   6.30173e+08  ...   \n",
       "\n",
       "  Healthcare Provider Taxonomy Group_6 Healthcare Provider Taxonomy Group_7  \\\n",
       "0                                  NaN                                  NaN   \n",
       "1                                  NaN                                  NaN   \n",
       "2                                  NaN                                  NaN   \n",
       "3                                  NaN                                  NaN   \n",
       "4                                  NaN                                  NaN   \n",
       "\n",
       "  Healthcare Provider Taxonomy Group_8 Healthcare Provider Taxonomy Group_9  \\\n",
       "0                                  NaN                                  NaN   \n",
       "1                                  NaN                                  NaN   \n",
       "2                                  NaN                                  NaN   \n",
       "3                                  NaN                                  NaN   \n",
       "4                                  NaN                                  NaN   \n",
       "\n",
       "  Healthcare Provider Taxonomy Group_10 Healthcare Provider Taxonomy Group_11  \\\n",
       "0                                   NaN                                   NaN   \n",
       "1                                   NaN                                   NaN   \n",
       "2                                   NaN                                   NaN   \n",
       "3                                   NaN                                   NaN   \n",
       "4                                   NaN                                   NaN   \n",
       "\n",
       "  Healthcare Provider Taxonomy Group_12 Healthcare Provider Taxonomy Group_13  \\\n",
       "0                                   NaN                                   NaN   \n",
       "1                                   NaN                                   NaN   \n",
       "2                                   NaN                                   NaN   \n",
       "3                                   NaN                                   NaN   \n",
       "4                                   NaN                                   NaN   \n",
       "\n",
       "  Healthcare Provider Taxonomy Group_14 Healthcare Provider Taxonomy Group_15  \n",
       "0                                   NaN                                   NaN  \n",
       "1                                   NaN                                   NaN  \n",
       "2                                   NaN                                   NaN  \n",
       "3                                   NaN                                   NaN  \n",
       "4                                   NaN                                   NaN  \n",
       "\n",
       "[5 rows x 25 columns]"
      ]
     },
     "execution_count": 42,
     "metadata": {},
     "output_type": "execute_result"
    }
   ],
   "source": [
    "hop_NPI.head()"
   ]
  },
  {
   "cell_type": "code",
   "execution_count": 26,
   "metadata": {},
   "outputs": [],
   "source": [
    "taxon = pd.read_pickle('taxonomy.pkl')"
   ]
  },
  {
   "cell_type": "code",
   "execution_count": 28,
   "metadata": {},
   "outputs": [],
   "source": [
    "\n",
    "\n",
    "# Merge hop_NPI with taxon \n",
    "\n"
   ]
  },
  {
   "cell_type": "code",
   "execution_count": 43,
   "metadata": {},
   "outputs": [
    {
     "name": "stdout",
     "output_type": "stream",
     "text": [
      "CPU times: user 31.3 s, sys: 53.6 s, total: 1min 24s\n",
      "Wall time: 2min 3s\n"
     ]
    }
   ],
   "source": [
    "%time hop_NPI_taxon = pd.merge(left = hop_NPI, right = taxon, how = 'inner', left_on = 'Healthcare Provider Taxonomy Code_1', right_on = 'provider_taxonomy_code')"
   ]
  },
  {
   "cell_type": "code",
   "execution_count": 44,
   "metadata": {},
   "outputs": [
    {
     "data": {
      "text/html": [
       "<div>\n",
       "<style scoped>\n",
       "    .dataframe tbody tr th:only-of-type {\n",
       "        vertical-align: middle;\n",
       "    }\n",
       "\n",
       "    .dataframe tbody tr th {\n",
       "        vertical-align: top;\n",
       "    }\n",
       "\n",
       "    .dataframe thead th {\n",
       "        text-align: right;\n",
       "    }\n",
       "</style>\n",
       "<table border=\"1\" class=\"dataframe\">\n",
       "  <thead>\n",
       "    <tr style=\"text-align: right;\">\n",
       "      <th></th>\n",
       "      <th>from_npi</th>\n",
       "      <th>to_npi</th>\n",
       "      <th>patient_count</th>\n",
       "      <th>transaction_count</th>\n",
       "      <th>average_day_wait</th>\n",
       "      <th>std_day_wait</th>\n",
       "      <th>NPI</th>\n",
       "      <th>Entity Type Code</th>\n",
       "      <th>Provider Business Mailing Address State Name</th>\n",
       "      <th>Provider Business Mailing Address Postal Code</th>\n",
       "      <th>...</th>\n",
       "      <th>Healthcare Provider Taxonomy Group_10</th>\n",
       "      <th>Healthcare Provider Taxonomy Group_11</th>\n",
       "      <th>Healthcare Provider Taxonomy Group_12</th>\n",
       "      <th>Healthcare Provider Taxonomy Group_13</th>\n",
       "      <th>Healthcare Provider Taxonomy Group_14</th>\n",
       "      <th>Healthcare Provider Taxonomy Group_15</th>\n",
       "      <th>medicare_prov_supplier_desc</th>\n",
       "      <th>medicare_specialty_code</th>\n",
       "      <th>provider_taxonomy_code</th>\n",
       "      <th>provider_taxonomy_desc</th>\n",
       "    </tr>\n",
       "  </thead>\n",
       "  <tbody>\n",
       "    <tr>\n",
       "      <td>0</td>\n",
       "      <td>1033142146</td>\n",
       "      <td>1000000004</td>\n",
       "      <td>491</td>\n",
       "      <td>535</td>\n",
       "      <td>10.232</td>\n",
       "      <td>36.558</td>\n",
       "      <td>1033142146</td>\n",
       "      <td>2.0</td>\n",
       "      <td>MO</td>\n",
       "      <td>6.30173e+08</td>\n",
       "      <td>...</td>\n",
       "      <td>NaN</td>\n",
       "      <td>NaN</td>\n",
       "      <td>NaN</td>\n",
       "      <td>NaN</td>\n",
       "      <td>NaN</td>\n",
       "      <td>NaN</td>\n",
       "      <td>Physician/Diagnostic Radiology</td>\n",
       "      <td>30</td>\n",
       "      <td>2085R0202X</td>\n",
       "      <td>Allopathic &amp; Osteopathic Physicians/Radiology,...</td>\n",
       "    </tr>\n",
       "    <tr>\n",
       "      <td>1</td>\n",
       "      <td>1033142146</td>\n",
       "      <td>1003112558</td>\n",
       "      <td>46</td>\n",
       "      <td>62</td>\n",
       "      <td>38.371</td>\n",
       "      <td>47.703</td>\n",
       "      <td>1033142146</td>\n",
       "      <td>2.0</td>\n",
       "      <td>MO</td>\n",
       "      <td>6.30173e+08</td>\n",
       "      <td>...</td>\n",
       "      <td>NaN</td>\n",
       "      <td>NaN</td>\n",
       "      <td>NaN</td>\n",
       "      <td>NaN</td>\n",
       "      <td>NaN</td>\n",
       "      <td>NaN</td>\n",
       "      <td>Physician/Diagnostic Radiology</td>\n",
       "      <td>30</td>\n",
       "      <td>2085R0202X</td>\n",
       "      <td>Allopathic &amp; Osteopathic Physicians/Radiology,...</td>\n",
       "    </tr>\n",
       "    <tr>\n",
       "      <td>2</td>\n",
       "      <td>1033142146</td>\n",
       "      <td>1003810375</td>\n",
       "      <td>71</td>\n",
       "      <td>152</td>\n",
       "      <td>27.684</td>\n",
       "      <td>38.834</td>\n",
       "      <td>1033142146</td>\n",
       "      <td>2.0</td>\n",
       "      <td>MO</td>\n",
       "      <td>6.30173e+08</td>\n",
       "      <td>...</td>\n",
       "      <td>NaN</td>\n",
       "      <td>NaN</td>\n",
       "      <td>NaN</td>\n",
       "      <td>NaN</td>\n",
       "      <td>NaN</td>\n",
       "      <td>NaN</td>\n",
       "      <td>Physician/Diagnostic Radiology</td>\n",
       "      <td>30</td>\n",
       "      <td>2085R0202X</td>\n",
       "      <td>Allopathic &amp; Osteopathic Physicians/Radiology,...</td>\n",
       "    </tr>\n",
       "    <tr>\n",
       "      <td>3</td>\n",
       "      <td>1033142146</td>\n",
       "      <td>1003847591</td>\n",
       "      <td>134</td>\n",
       "      <td>141</td>\n",
       "      <td>8.879</td>\n",
       "      <td>36.903</td>\n",
       "      <td>1033142146</td>\n",
       "      <td>2.0</td>\n",
       "      <td>MO</td>\n",
       "      <td>6.30173e+08</td>\n",
       "      <td>...</td>\n",
       "      <td>NaN</td>\n",
       "      <td>NaN</td>\n",
       "      <td>NaN</td>\n",
       "      <td>NaN</td>\n",
       "      <td>NaN</td>\n",
       "      <td>NaN</td>\n",
       "      <td>Physician/Diagnostic Radiology</td>\n",
       "      <td>30</td>\n",
       "      <td>2085R0202X</td>\n",
       "      <td>Allopathic &amp; Osteopathic Physicians/Radiology,...</td>\n",
       "    </tr>\n",
       "    <tr>\n",
       "      <td>4</td>\n",
       "      <td>1033142146</td>\n",
       "      <td>1003883430</td>\n",
       "      <td>54</td>\n",
       "      <td>63</td>\n",
       "      <td>32.286</td>\n",
       "      <td>55.826</td>\n",
       "      <td>1033142146</td>\n",
       "      <td>2.0</td>\n",
       "      <td>MO</td>\n",
       "      <td>6.30173e+08</td>\n",
       "      <td>...</td>\n",
       "      <td>NaN</td>\n",
       "      <td>NaN</td>\n",
       "      <td>NaN</td>\n",
       "      <td>NaN</td>\n",
       "      <td>NaN</td>\n",
       "      <td>NaN</td>\n",
       "      <td>Physician/Diagnostic Radiology</td>\n",
       "      <td>30</td>\n",
       "      <td>2085R0202X</td>\n",
       "      <td>Allopathic &amp; Osteopathic Physicians/Radiology,...</td>\n",
       "    </tr>\n",
       "  </tbody>\n",
       "</table>\n",
       "<p>5 rows × 29 columns</p>\n",
       "</div>"
      ],
      "text/plain": [
       "     from_npi      to_npi  patient_count  transaction_count  average_day_wait  \\\n",
       "0  1033142146  1000000004            491                535            10.232   \n",
       "1  1033142146  1003112558             46                 62            38.371   \n",
       "2  1033142146  1003810375             71                152            27.684   \n",
       "3  1033142146  1003847591            134                141             8.879   \n",
       "4  1033142146  1003883430             54                 63            32.286   \n",
       "\n",
       "   std_day_wait         NPI  Entity Type Code  \\\n",
       "0        36.558  1033142146               2.0   \n",
       "1        47.703  1033142146               2.0   \n",
       "2        38.834  1033142146               2.0   \n",
       "3        36.903  1033142146               2.0   \n",
       "4        55.826  1033142146               2.0   \n",
       "\n",
       "  Provider Business Mailing Address State Name  \\\n",
       "0                                           MO   \n",
       "1                                           MO   \n",
       "2                                           MO   \n",
       "3                                           MO   \n",
       "4                                           MO   \n",
       "\n",
       "  Provider Business Mailing Address Postal Code  ...  \\\n",
       "0                                   6.30173e+08  ...   \n",
       "1                                   6.30173e+08  ...   \n",
       "2                                   6.30173e+08  ...   \n",
       "3                                   6.30173e+08  ...   \n",
       "4                                   6.30173e+08  ...   \n",
       "\n",
       "  Healthcare Provider Taxonomy Group_10 Healthcare Provider Taxonomy Group_11  \\\n",
       "0                                   NaN                                   NaN   \n",
       "1                                   NaN                                   NaN   \n",
       "2                                   NaN                                   NaN   \n",
       "3                                   NaN                                   NaN   \n",
       "4                                   NaN                                   NaN   \n",
       "\n",
       "  Healthcare Provider Taxonomy Group_12 Healthcare Provider Taxonomy Group_13  \\\n",
       "0                                   NaN                                   NaN   \n",
       "1                                   NaN                                   NaN   \n",
       "2                                   NaN                                   NaN   \n",
       "3                                   NaN                                   NaN   \n",
       "4                                   NaN                                   NaN   \n",
       "\n",
       "  Healthcare Provider Taxonomy Group_14 Healthcare Provider Taxonomy Group_15  \\\n",
       "0                                   NaN                                   NaN   \n",
       "1                                   NaN                                   NaN   \n",
       "2                                   NaN                                   NaN   \n",
       "3                                   NaN                                   NaN   \n",
       "4                                   NaN                                   NaN   \n",
       "\n",
       "      medicare_prov_supplier_desc medicare_specialty_code  \\\n",
       "0  Physician/Diagnostic Radiology                      30   \n",
       "1  Physician/Diagnostic Radiology                      30   \n",
       "2  Physician/Diagnostic Radiology                      30   \n",
       "3  Physician/Diagnostic Radiology                      30   \n",
       "4  Physician/Diagnostic Radiology                      30   \n",
       "\n",
       "  provider_taxonomy_code                             provider_taxonomy_desc  \n",
       "0             2085R0202X  Allopathic & Osteopathic Physicians/Radiology,...  \n",
       "1             2085R0202X  Allopathic & Osteopathic Physicians/Radiology,...  \n",
       "2             2085R0202X  Allopathic & Osteopathic Physicians/Radiology,...  \n",
       "3             2085R0202X  Allopathic & Osteopathic Physicians/Radiology,...  \n",
       "4             2085R0202X  Allopathic & Osteopathic Physicians/Radiology,...  \n",
       "\n",
       "[5 rows x 29 columns]"
      ]
     },
     "execution_count": 44,
     "metadata": {},
     "output_type": "execute_result"
    }
   ],
   "source": [
    "hop_NPI_taxon.head()"
   ]
  },
  {
   "cell_type": "code",
   "execution_count": 31,
   "metadata": {},
   "outputs": [
    {
     "data": {
      "text/plain": [
       "(31127390, 6)"
      ]
     },
     "execution_count": 31,
     "metadata": {},
     "output_type": "execute_result"
    }
   ],
   "source": [
    "hopteaming.shape"
   ]
  },
  {
   "cell_type": "code",
   "execution_count": null,
   "metadata": {},
   "outputs": [],
   "source": [
    "# NPI_taxon = pd.merge(left = NPI, right = taxon, how = 'inner', left_on = 'Healthcare Provider Taxonomy Code_1', right_on = 'provider_taxonomy_code')"
   ]
  },
  {
   "cell_type": "markdown",
   "metadata": {},
   "source": [
    "# Read in Ting Ting's pickle "
   ]
  },
  {
   "cell_type": "code",
   "execution_count": 45,
   "metadata": {},
   "outputs": [],
   "source": [
    "tt_df = pd.read_pickle('additional_attributes_for_hop_teaming.pkl') "
   ]
  },
  {
   "cell_type": "code",
   "execution_count": 46,
   "metadata": {},
   "outputs": [
    {
     "data": {
      "text/html": [
       "<div>\n",
       "<style scoped>\n",
       "    .dataframe tbody tr th:only-of-type {\n",
       "        vertical-align: middle;\n",
       "    }\n",
       "\n",
       "    .dataframe tbody tr th {\n",
       "        vertical-align: top;\n",
       "    }\n",
       "\n",
       "    .dataframe thead th {\n",
       "        text-align: right;\n",
       "    }\n",
       "</style>\n",
       "<table border=\"1\" class=\"dataframe\">\n",
       "  <thead>\n",
       "    <tr style=\"text-align: right;\">\n",
       "      <th></th>\n",
       "      <th>NPI</th>\n",
       "      <th>Provider Organization Name (Legal Business Name)</th>\n",
       "      <th>Provider Last Name (Legal Name)</th>\n",
       "      <th>Provider First Name</th>\n",
       "      <th>Provider Business Mailing Address Postal Code</th>\n",
       "      <th>Taxonomy</th>\n",
       "      <th>zip5</th>\n",
       "      <th>provider_taxonomy_code</th>\n",
       "      <th>provider_taxonomy_desc</th>\n",
       "      <th>ZIP</th>\n",
       "      <th>CBSA</th>\n",
       "    </tr>\n",
       "  </thead>\n",
       "  <tbody>\n",
       "    <tr>\n",
       "      <td>0</td>\n",
       "      <td>1679576722</td>\n",
       "      <td>NaN</td>\n",
       "      <td>WIEBE</td>\n",
       "      <td>DAVID</td>\n",
       "      <td>6.88482e+08</td>\n",
       "      <td>207X00000X</td>\n",
       "      <td>68848</td>\n",
       "      <td>NaN</td>\n",
       "      <td>NaN</td>\n",
       "      <td>68848</td>\n",
       "      <td>28260.0</td>\n",
       "    </tr>\n",
       "    <tr>\n",
       "      <td>1</td>\n",
       "      <td>1588667638</td>\n",
       "      <td>NaN</td>\n",
       "      <td>PILCHER</td>\n",
       "      <td>WILLIAM</td>\n",
       "      <td>3.22045e+08</td>\n",
       "      <td>207RC0000X</td>\n",
       "      <td>32204</td>\n",
       "      <td>NaN</td>\n",
       "      <td>NaN</td>\n",
       "      <td>32204</td>\n",
       "      <td>27260.0</td>\n",
       "    </tr>\n",
       "    <tr>\n",
       "      <td>2</td>\n",
       "      <td>1497758544</td>\n",
       "      <td>CUMBERLAND COUNTY HOSPITAL SYSTEM, INC</td>\n",
       "      <td>NaN</td>\n",
       "      <td>NaN</td>\n",
       "      <td>2.83045e+08</td>\n",
       "      <td>251G00000X</td>\n",
       "      <td>28304</td>\n",
       "      <td>251G00000X</td>\n",
       "      <td>Agencies/Hospice Care, Community Based</td>\n",
       "      <td>28304</td>\n",
       "      <td>22180.0</td>\n",
       "    </tr>\n",
       "    <tr>\n",
       "      <td>3</td>\n",
       "      <td>1306849450</td>\n",
       "      <td>NaN</td>\n",
       "      <td>SMITSON</td>\n",
       "      <td>HAROLD</td>\n",
       "      <td>7.57513e+08</td>\n",
       "      <td>2085R0202X</td>\n",
       "      <td>75751</td>\n",
       "      <td>2085R0202X</td>\n",
       "      <td>Allopathic &amp; Osteopathic Physicians/Radiology,...</td>\n",
       "      <td>75751</td>\n",
       "      <td>37300.0</td>\n",
       "    </tr>\n",
       "    <tr>\n",
       "      <td>4</td>\n",
       "      <td>1215930367</td>\n",
       "      <td>NaN</td>\n",
       "      <td>GRESSOT</td>\n",
       "      <td>LAURENT</td>\n",
       "      <td>7.70901e+08</td>\n",
       "      <td>207RH0003X</td>\n",
       "      <td>77090</td>\n",
       "      <td>NaN</td>\n",
       "      <td>NaN</td>\n",
       "      <td>77090</td>\n",
       "      <td>26420.0</td>\n",
       "    </tr>\n",
       "  </tbody>\n",
       "</table>\n",
       "</div>"
      ],
      "text/plain": [
       "          NPI Provider Organization Name (Legal Business Name)  \\\n",
       "0  1679576722                                              NaN   \n",
       "1  1588667638                                              NaN   \n",
       "2  1497758544           CUMBERLAND COUNTY HOSPITAL SYSTEM, INC   \n",
       "3  1306849450                                              NaN   \n",
       "4  1215930367                                              NaN   \n",
       "\n",
       "  Provider Last Name (Legal Name) Provider First Name  \\\n",
       "0                           WIEBE               DAVID   \n",
       "1                         PILCHER             WILLIAM   \n",
       "2                             NaN                 NaN   \n",
       "3                         SMITSON              HAROLD   \n",
       "4                         GRESSOT             LAURENT   \n",
       "\n",
       "  Provider Business Mailing Address Postal Code    Taxonomy   zip5  \\\n",
       "0                                   6.88482e+08  207X00000X  68848   \n",
       "1                                   3.22045e+08  207RC0000X  32204   \n",
       "2                                   2.83045e+08  251G00000X  28304   \n",
       "3                                   7.57513e+08  2085R0202X  75751   \n",
       "4                                   7.70901e+08  207RH0003X  77090   \n",
       "\n",
       "  provider_taxonomy_code                             provider_taxonomy_desc  \\\n",
       "0                    NaN                                                NaN   \n",
       "1                    NaN                                                NaN   \n",
       "2             251G00000X             Agencies/Hospice Care, Community Based   \n",
       "3             2085R0202X  Allopathic & Osteopathic Physicians/Radiology,...   \n",
       "4                    NaN                                                NaN   \n",
       "\n",
       "     ZIP     CBSA  \n",
       "0  68848  28260.0  \n",
       "1  32204  27260.0  \n",
       "2  28304  22180.0  \n",
       "3  75751  37300.0  \n",
       "4  77090  26420.0  "
      ]
     },
     "execution_count": 46,
     "metadata": {},
     "output_type": "execute_result"
    }
   ],
   "source": [
    "tt_df.head()"
   ]
  },
  {
   "cell_type": "markdown",
   "metadata": {},
   "source": [
    "### 1. Which specialists see the most patients per CBSA?\n",
    "\n",
    "### 2. Which hospitals are referred the most patients per CBSA? \n",
    "\n",
    "### 3. Which hospitals see the most patients by specialty by CBSA? "
   ]
  },
  {
   "cell_type": "code",
   "execution_count": 53,
   "metadata": {},
   "outputs": [],
   "source": [
    "# Which hospitals do specialists typically refer patients to? "
   ]
  },
  {
   "cell_type": "code",
   "execution_count": 57,
   "metadata": {},
   "outputs": [
    {
     "data": {
      "text/plain": [
       "WALGREEN CO                          9806\n",
       "WAL-MART STORES EAST LP              2968\n",
       "WAL-MART STORES EAST, LP             1599\n",
       "COSTCO WHOLESALE CORPORATION         1568\n",
       "WALMART INC.                         1291\n",
       "                                     ... \n",
       "RALPH G NADER MD PA                     1\n",
       "PEDIATRIC CARDIOLOGY OF VIRGINIA        1\n",
       "SHANNON COON BSN                        1\n",
       "LAURENTE MEDICAL ASSOCIATES, P.A.       1\n",
       "CAVE CITY NURSING HOME, INC             1\n",
       "Name: Provider Organization Name (Legal Business Name), Length: 1020478, dtype: int64"
      ]
     },
     "execution_count": 57,
     "metadata": {},
     "output_type": "execute_result"
    }
   ],
   "source": [
    "tt_df['Provider Organization Name (Legal Business Name)'].value_counts()"
   ]
  },
  {
   "cell_type": "code",
   "execution_count": 62,
   "metadata": {},
   "outputs": [
    {
     "data": {
      "text/plain": [
       "Suppliers/Durable Medical Equipment & Medical Supplies                                                                                                   5090672\n",
       "Hospitals/General Acute Care Hospital                                                                                                                    4574448\n",
       "Allopathic & Osteopathic Physicians/Internal Medicine, Cardiovascular Disease                                                                            3469626\n",
       "Allopathic & Osteopathic Physicians/Internal Medicine                                                                                                    3352962\n",
       "Allopathic & Osteopathic Physicians/Radiology, Diagnostic Radiology                                                                                      3231536\n",
       "                                                                                                                                                          ...   \n",
       "Allopathic & Osteopathic Physicians/ Psychiatry & Neurology, Sports Medicine                                                                                   2\n",
       "Allopathic & Osteopathic Physicians/Psychiatry & Neurology/Respiratory, Developmental, Rehabilitative and Restorative Service , Brain Injury Medicine          2\n",
       "Physician Assistants & Advanced Practice Nursing Providers/Clinical Nurse Specialist, Perinatal                                                                1\n",
       "Respiratory, Developmental, Rehabilitative & Restorative Service Providers/Occupational Therapist, Human Factors                                               1\n",
       "Physician Assistants & Advanced Practice Nursing Providers/Clinical Nurse Specialist, Chronic Care                                                             1\n",
       "Name: provider_taxonomy_desc, Length: 402, dtype: int64"
      ]
     },
     "execution_count": 62,
     "metadata": {},
     "output_type": "execute_result"
    }
   ],
   "source": [
    "hop_NPI_taxon.provider_taxonomy_desc.value_counts()"
   ]
  },
  {
   "cell_type": "code",
   "execution_count": null,
   "metadata": {},
   "outputs": [],
   "source": []
  }
 ],
 "metadata": {
  "kernelspec": {
   "display_name": "Python 3",
   "language": "python",
   "name": "python3"
  },
  "language_info": {
   "codemirror_mode": {
    "name": "ipython",
    "version": 3
   },
   "file_extension": ".py",
   "mimetype": "text/x-python",
   "name": "python",
   "nbconvert_exporter": "python",
   "pygments_lexer": "ipython3",
   "version": "3.7.4"
  }
 },
 "nbformat": 4,
 "nbformat_minor": 2
}
