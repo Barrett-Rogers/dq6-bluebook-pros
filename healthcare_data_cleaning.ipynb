{
 "cells": [
  {
   "cell_type": "code",
   "execution_count": 104,
   "metadata": {},
   "outputs": [],
   "source": [
    "import googlemaps\n",
    "from googlemaps import Client as GoogleMaps\n",
    "import gmplot\n",
    "from gmplot import *\n",
    "import gmaps\n",
    "from datetime import datetime \n",
    "import numpy as np\n",
    "import matplotlib.pyplot as plt\n",
    "import scipy.stats as stats\n",
    "import seaborn as sns\n",
    "import statsmodels.api as sm\n",
    "%matplotlib inline\n",
    "import pandas as pd\n",
    "import os\n",
    "os.curdir\n",
    "import local_config\n",
    "import lydia_functions\n",
    "import npi_rename\n",
    "LYDIA_GOOGLE_API_KEY = local_config.lydia_google_api_key"
   ]
  },
  {
   "cell_type": "code",
   "execution_count": null,
   "metadata": {},
   "outputs": [],
   "source": [
    "'''\n",
    "tax_df=pd.read_pickle('data/taxonomy.pkl')\n",
    "tax=tax_df.drop_duplicates(subset=None, keep='first', inplace=False).reset_index(drop=True)\n",
    "tax=tax.rename(columns={'provider_taxonomy_code':'taxonomy_code','provider_taxonomy_desc':'specialty'})\n",
    "tax=tax[['taxonomy_code', 'specialty']].reset_index(drop=True)\n",
    "tax['taxonomy_code']=tax.taxonomy_code.astype(str)\n",
    "tax=tax[tax.taxonomy_code!='nan']\n",
    "tax['specialty']=tax['specialty'].str.split('/')\n",
    "def name_cleaner(raw):\n",
    "    col=[]\n",
    "    for x in raw.specialty:\n",
    "        if len(x)==1:\n",
    "            col.append(x)\n",
    "        else:\n",
    "            col.append(x[1])\n",
    "    return col\n",
    "def med(spec):\n",
    "    col=[]\n",
    "    spec=tax.specialty\n",
    "    for x in spec:\n",
    "        if 'Internal Medicine,'in x:\n",
    "            col.append(x.split(',')[1])\n",
    "        elif ',' in x:\n",
    "            col.append(x.split(',')[0])\n",
    "        else:\n",
    "            col.append(x)\n",
    "    return col\n",
    "tax['specialty']=name_cleaner(tax)\n",
    "tax['specialty']=med(tax.specialty)\n",
    "tax=tax.rename(columns={'taxonomy_code':'taxonomy'})\n",
    "tax.to_pickle('data/tax.pkl')\n",
    "'''"
   ]
  },
  {
   "cell_type": "code",
   "execution_count": null,
   "metadata": {},
   "outputs": [],
   "source": [
    "'''\n",
    "npi_file_path='data/npidata_pfile_20050523-20200209.csv'\n",
    "npi = pd.read_csv(npi_file_path, usecols=lydia_functions.npi_finder(), \n",
    "                  dtype={'Provider Business Practice Location Address Postal Code': 'str'})\n",
    "npi=npi.rename(columns=lydia_functions.npi_rename_cols())\n",
    "for i in range(1,16):\n",
    "    npi['tax{}'.format(i)]=npi['tx{}'.format(i)]+npi['sw{}'.format(i)]\n",
    "    npi= npi.drop(['tx{}'.format(i),'sw{}'.format(i)], axis=1)\n",
    "    npi.loc[npi['tax{}'.format(i)].str[-1:]=='Y','taxonomy']=npi['tax{}'.format(i)].str[:-1]\n",
    "    npi= npi.drop([\"tax{}\".format(i)],axis=1)\n",
    "npi=npi.drop_duplicates(subset=None, keep='first', inplace=False).reset_index(drop=True)\n",
    "npi['zipcode']=npi.zipcode.str[:5]\n",
    "npi['address']=npi['street_address']+', ' + npi['city'] + ', '+ npi['state']+', '+npi['zipcode']\n",
    "cols = npi[['firstname', 'lastname', 'name_suffix', 'credential']]\n",
    "npi['name']=npi['name_prefix'].str.cat(cols, sep = \" \", na_rep = '')\n",
    "business=npi[['business_name']]\n",
    "npi['name']=npi['name'].str.cat(business, sep = \" \", na_rep = '')\n",
    "npi= npi.drop(columns=['business_name','lastname', 'firstname', 'name_prefix',\n",
    "       'name_suffix', 'credential', 'street_address','city', 'state'])\n",
    "npi=npi[['name',  'address','entity_type', 'taxonomy','npi','other_business_name','zipcode']].reset_index(drop=True)\n",
    "npi.to_pickle('data/npi.pkl')\n",
    "'''"
   ]
  },
  {
   "cell_type": "markdown",
   "metadata": {},
   "source": [
    "# data imports"
   ]
  },
  {
   "cell_type": "code",
   "execution_count": 2,
   "metadata": {},
   "outputs": [],
   "source": [
    "'''\n",
    "#use this taxonomy and npi datasets \n",
    "tax_df=pd.read_pickle('data/tax.pkl')\n",
    "npi=pd.read_pickle('data/npi.pkl')\n",
    "hop_df = pd.read_pickle('data/hop.pkl')\n",
    "#npi=npi.merge(tax_df, on ='taxonomy',how=\"left\")"
   ]
  },
  {
   "cell_type": "markdown",
   "metadata": {},
   "source": [
    "# Mapping"
   ]
  },
  {
   "cell_type": "code",
   "execution_count": 118,
   "metadata": {},
   "outputs": [],
   "source": [
    "'''\n",
    "ADDR_MAP=pd.read_pickle('data/ADDR_MAP.pkl')\n",
    "tn_add=pd.DataFrame.from_dict(ADDR_MAP, orient='index')\n",
    "midlat=tn_add.lat.mean()\n",
    "midlong=tn_add.lng.mean()\n",
    "lat= tn_add.lat[:10]\n",
    "lng=tn_add.lng [:10]\n",
    "gmap_scatter=gmplot.GoogleMapPlotter(midlat, midlong, 11, apikey = LYDIA_GOOGLE_API_KEY)\n",
    "gmap_scatter.coloricon = \"http://www.googlemapsmarkers.com/v1/%s/\"\n",
    "for i, row in tn_add.iterrows():\n",
    "    gmap_scatter.marker(row['lat'], row['lng'])\n",
    "gmap_scatter.plot(lat, lng, 'cornflowerblue', edge_width = 3.0)\n",
    "gmap_scatter.draw('providers.html')"
   ]
  },
  {
   "cell_type": "code",
   "execution_count": 100,
   "metadata": {},
   "outputs": [],
   "source": []
  },
  {
   "cell_type": "markdown",
   "metadata": {},
   "source": [
    "# from_npi"
   ]
  },
  {
   "cell_type": "code",
   "execution_count": 8,
   "metadata": {},
   "outputs": [],
   "source": [
    "'''\n",
    "hop['npi']=hop['from_npi']\n",
    "hop=hop.merge(npi, on ='npi',how=\"inner\")\n",
    "hop=hop.rename(columns={'name':'from_name',\n",
    "                        'address':'from_address',\n",
    "                        'entity_type':'from_entity_type', \n",
    "                        'taxonomy':'from_taxonomy', \n",
    "                        'other_business_name':'from_other_business_name',\n",
    "                        'zipcode':'from_zipcode',\n",
    "                        'specialty':'from_specialty'})\n",
    "#hop.to_pickle('data/from_hop.pkl')\n",
    "'''"
   ]
  },
  {
   "cell_type": "markdown",
   "metadata": {},
   "source": [
    "From entity-1 and over 50 transaction, less than 50 avg day wait"
   ]
  },
  {
   "cell_type": "code",
   "execution_count": 43,
   "metadata": {},
   "outputs": [],
   "source": [
    "'''\n",
    "#only referalls from doctors\n",
    "doctors=npi[npi['entity_type']==1].reset_index(drop=True)\n",
    "hop=hop[hop.from_npi.isin(doctors.npi)]\n",
    "#Filter transaction_count > 50, average_day_wait < 50\n",
    "hop=hop[(hop['transaction_count'] > 50) & (hop1['average_day_wait'] < 50)].reset_index(drop=True)\n",
    "hop=hop.drop(columns=['average_day_wait','std_day_wait','from_taxonomy','npi'])"
   ]
  },
  {
   "cell_type": "markdown",
   "metadata": {},
   "source": [
    "# to_npi"
   ]
  },
  {
   "cell_type": "code",
   "execution_count": 55,
   "metadata": {},
   "outputs": [],
   "source": [
    "'''\n",
    "hop1['npi']=hop1['to_npi']\n",
    "hop1=hop1.merge(npi, on ='npi',how=\"inner\")\n",
    "hop1=hop1.drop(columns='npi')\n",
    "hop1=hop1.rename(columns={'name':'to_name',\n",
    "                        'address':'to_address',\n",
    "                        'entity_type':'to_entity_type', \n",
    "                        'other_business_name':'to_other_business_name',\n",
    "                        'zipcode':'to_zipcode',\n",
    "                        'specialty':'to_specialty'})\n",
    "hop1=hop1.drop(columns=['to_taxonomy','from_other_business_name','from_entity_type'])                        \n",
    "#hop1.to_pickle('data/hopfinal.pkl')\n",
    "'''"
   ]
  },
  {
   "cell_type": "code",
   "execution_count": 13,
   "metadata": {},
   "outputs": [],
   "source": [
    "'''\n",
    "cbsa=pd.read_excel('data/CBSA_ZIP_122019 .xlsx')\n",
    "cbsa=cbsa[['CBSA','ZIP']]\n",
    "cbsa=cbsa.rename(columns={'CBSA':'cbsa', 'ZIP':'zipcode'})\n",
    "cbsa.zipcode=cbsa.zipcode.astype(str)\n",
    "cbsa.to_csv('data/cbsa.csv')\n",
    "'''"
   ]
  },
  {
   "cell_type": "code",
   "execution_count": 43,
   "metadata": {},
   "outputs": [],
   "source": [
    "'''\n",
    "hop['zipcode']=hop['to_zipcode']\n",
    "hop=hop.merge(cbsa, on ='zipcode',how=\"inner\")\n",
    "hop=hop.rename(columns={'cbsa':'to_cbsa'})\n",
    "hop['zipcode']=hop['from_zipcode']\n",
    "hop=hop.merge(cbsa, on ='zipcode',how=\"inner\")\n",
    "hop=hop.rename(columns={'cbsa':'from_cbsa'}) '''"
   ]
  },
  {
   "cell_type": "markdown",
   "metadata": {},
   "source": [
    "# export final clean data"
   ]
  },
  {
   "cell_type": "code",
   "execution_count": null,
   "metadata": {},
   "outputs": [],
   "source": [
    "hop.to_csv('hop_to_from_full.csv')\n",
    "hop.to_pickle('hop_to_from_full.pkl')"
   ]
  },
  {
   "cell_type": "markdown",
   "metadata": {},
   "source": [
    "# payments recived"
   ]
  },
  {
   "cell_type": "code",
   "execution_count": 228,
   "metadata": {},
   "outputs": [],
   "source": [
    "ownership=pd.read_csv('data/OP_DTL_OWNRSHP_PGYR2017_P01172020.csv')\n",
    "research_df=pd.read_csv('data/OP_DTL_RSRCH_PGYR2017_P01172020.csv')\n",
    "paydf2=ownership[['Physician_Profile_ID','Physician_First_Name','Physician_Last_Name','Physician_Name_Suffix',\n",
    "                  'Recipient_Primary_Business_Street_Address_Line1','Recipient_City','Recipient_State',\n",
    "                  'Recipient_Zip_Code','Physician_Primary_Type','Physician_Specialty', 'Record_ID',\n",
    "                  'Total_Amount_Invested_USDollars', 'Value_of_Interest','Terms_of_Interest',\n",
    "                  'Submitting_Applicable_Manufacturer_or_Applicable_GPO_Name',\n",
    "       'Applicable_Manufacturer_or_Applicable_GPO_Making_Payment_ID',\n",
    "       'Applicable_Manufacturer_or_Applicable_GPO_Making_Payment_Name',\n",
    "       'Applicable_Manufacturer_or_Applicable_GPO_Making_Payment_State',\n",
    "       'Applicable_Manufacturer_or_Applicable_GPO_Making_Payment_Country',\n",
    "         'Interest_Held_by_Physician_or_an_Immediate_Family_Member'         \n",
    "                 ]]\n",
    "paydf3=research_df[['Physician_Profile_ID','Physician_First_Name','Physician_Last_Name','Physician_Name_Suffix',\n",
    "                   'Recipient_Primary_Business_Street_Address_Line1', 'Recipient_City',\n",
    "       'Recipient_State', 'Recipient_Zip_Code', 'Submitting_Applicable_Manufacturer_or_Applicable_GPO_Name',\n",
    "       'Applicable_Manufacturer_or_Applicable_GPO_Making_Payment_ID',\n",
    "       'Applicable_Manufacturer_or_Applicable_GPO_Making_Payment_Name',\n",
    "       'Applicable_Manufacturer_or_Applicable_GPO_Making_Payment_State',\n",
    "                    'Total_Amount_of_Payment_USDollars', 'Date_of_Payment',\n",
    "       'Form_of_Payment_or_Transfer_of_Value',\n",
    "                   ]]\n",
    "paydf2.to_pickle('data/ownership_payment.pkl')\n",
    "paydf3.to_pickle('data/research_payment.pkl')\n",
    "\n",
    "\n",
    "pay3=pay3[pay3['Physician_Profile_ID'].notna()].reset_index(drop=True)\n",
    "pay3['name']=pay3['Physician_First_Name'] + ' ' + pay3['Physician_Last_Name']\n",
    "pay3['address']=pay3['Recipient_Primary_Business_Street_Address_Line1'] +', ' + pay3['Recipient_City']+', '+pay3['Recipient_State']\n",
    "pay3=pay3.rename(columns={'Physician_Profile_ID':'id',\n",
    "                          'Submitting_Applicable_Manufacturer_or_Applicable_GPO_Name':'payer_name',\n",
    "                          'Total_Amount_of_Payment_USDollars':'amount',\n",
    "                         'Recipient_Zip_Code':'zipcode'})\n",
    "pay3=pay3[['id','name','address','payer_name','amount','zipcode',]]\n",
    "pay3['name']=pay3.name.str.lower()\n",
    "pay3['address']=pay3.address.str.lower()\n",
    "pay3['zipcode']=pay3.zipcode.astype(str)\n",
    "pay3['zipcode']=pay3.zipcode.str[:5]\n",
    "tn=pay3[pay3.address.str.contains(', tn')].reset_index()\n",
    "tn.to_pickle('data/tn_doc_pay,pkl')"
   ]
  },
  {
   "cell_type": "code",
   "execution_count": 62,
   "metadata": {},
   "outputs": [],
   "source": [
    "ownership_pay=pd.read_pickle('data/ownership_payment.pkl')\n",
    "research_pay=pd.read_pickle('data/research_payment.pkl')"
   ]
  },
  {
   "cell_type": "code",
   "execution_count": 102,
   "metadata": {},
   "outputs": [],
   "source": [
    "def col_renamer(df):\n",
    "    df=df.rename(columns={'Physician_Profile_ID':'id',\n",
    "                          'Physician_First_Name':'first_name',\n",
    "                          'Physician_Last_Name':'last_name',\n",
    "                          'Recipient_Primary_Business_Street_Address_Line1':'street_address',\n",
    "                          'Recipient_City':'city','Recipient_State':'state',\n",
    "                          'Total_Amount_of_Payment_USDollars':'amount',\n",
    "                         'Recipient_Zip_Code':'zipcode',\n",
    "                          'Applicable_Manufacturer_or_Applicable_GPO_Making_Payment_State':'payer_state',\n",
    "                          'Applicable_Manufacturer_or_Applicable_GPO_Making_Payment_Name':'payer_name',\n",
    "                          'Physician_Specialty':'specialty',\n",
    "                          'Total_Amount_Invested_USDollars':'dollar_amount'\n",
    "                         })\n",
    "    df=df.drop(columns=['Physician_Name_Suffix','Record_ID','Applicable_Manufacturer_or_Applicable_GPO_Making_Payment_ID',\n",
    "                        'Physician_Name_Suffix','Applicable_Manufacturer_or_Applicable_GPO_Making_Payment_Country',\n",
    "                        'Interest_Held_by_Physician_or_an_Immediate_Family_Member','Physician_Primary_Type',\n",
    "                        'Submitting_Applicable_Manufacturer_or_Applicable_GPO_Name', 'Date_of_Payment',\n",
    "                        'Form_of_Payment_or_Transfer_of_Value', 'Expenditure_Category1',\n",
    "       'Expenditure_Category2', 'Expenditure_Category3',\n",
    "       'Expenditure_Category4', 'Expenditure_Category5'\n",
    "                       ])\n",
    "    return df\n",
    "ownership_pay=col_renamer(ownership_pay)\n",
    "ownership_pay['specialty']=ownership_pay.specialty.str.split('|').str[1]"
   ]
  },
  {
   "cell_type": "code",
   "execution_count": 119,
   "metadata": {},
   "outputs": [],
   "source": [
    "def col2_renamer(df):\n",
    "    df=df.rename(columns={'Physician_Profile_ID':'id',\n",
    "                          'Physician_First_Name':'first_name',\n",
    "                          'Physician_Last_Name':'last_name',\n",
    "                          'Recipient_Primary_Business_Street_Address_Line1':'street_address',\n",
    "                          'Recipient_City':'city','Recipient_State':'state',\n",
    "                          'Total_Amount_of_Payment_USDollars':'amount',\n",
    "                         'Recipient_Zip_Code':'zipcode',\n",
    "                          'Applicable_Manufacturer_or_Applicable_GPO_Making_Payment_State':'payer_state',\n",
    "                          'Applicable_Manufacturer_or_Applicable_GPO_Making_Payment_Name':'payer_name',\n",
    "                          'Physician_Specialty':'specialty',\n",
    "                          'Total_Amount_Invested_USDollars':'dollar_amount'\n",
    "                         })\n",
    "    df=df.drop(columns=['Physician_Name_Suffix','Applicable_Manufacturer_or_Applicable_GPO_Making_Payment_ID',\n",
    "                        'Submitting_Applicable_Manufacturer_or_Applicable_GPO_Name', 'Date_of_Payment',\n",
    "                        'Form_of_Payment_or_Transfer_of_Value', 'Expenditure_Category1',\n",
    "       'Expenditure_Category2', 'Expenditure_Category3',\n",
    "       'Expenditure_Category4', 'Expenditure_Category5'\n",
    "                       ])\n",
    "    return df\n",
    "research_pay = col2_renamer(research_pay)"
   ]
  },
  {
   "cell_type": "markdown",
   "metadata": {},
   "source": [
    "# export clean financial relationship datasets"
   ]
  },
  {
   "cell_type": "code",
   "execution_count": 106,
   "metadata": {},
   "outputs": [],
   "source": [
    "ownership_pay.to_pickle('data/ownership_pay.pkl')\n",
    "ownership_pay.to_csv('ownership_pay.csv')\n",
    "research_pay.to_pickle('data/research_pay.pkl')\n",
    "research_pay.to_csv('research_pay.csv')"
   ]
  }
 ],
 "metadata": {
  "kernelspec": {
   "display_name": "Python 3",
   "language": "python",
   "name": "python3"
  },
  "language_info": {
   "codemirror_mode": {
    "name": "ipython",
    "version": 3
   },
   "file_extension": ".py",
   "mimetype": "text/x-python",
   "name": "python",
   "nbconvert_exporter": "python",
   "pygments_lexer": "ipython3",
   "version": "3.7.1"
  }
 },
 "nbformat": 4,
 "nbformat_minor": 2
}
